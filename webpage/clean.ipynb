{
 "cells": [
  {
   "cell_type": "code",
   "execution_count": 1,
   "metadata": {},
   "outputs": [],
   "source": [
    "from sklearn.metrics import classification_report\n",
    "from simpletransformers.classification import ClassificationModel\n",
    "\n",
    "import torch"
   ]
  },
  {
   "cell_type": "code",
   "execution_count": 2,
   "metadata": {},
   "outputs": [],
   "source": [
    "cuda_available = torch.cuda.is_available()\n",
    "model_args = {\n",
    "    \"max_seq_length\": 512,\n",
    "    \"evaluate_during_training\": True,\n",
    "    \"num_train_epochs\": 20,\n",
    "    \"train_batch_size\": 10,\n",
    "    \"eval_batch_size\": 10,\n",
    "    \"output_dir\": \"./model/\",\n",
    "    \"best_model_dir\": \"./model/\",\n",
    "    \"dataloader_num_workers\": 0,\n",
    "    \"use_multiprocessing\": False,\n",
    "    \"logging_steps\": 50\n",
    "}\n",
    "my_model = ClassificationModel(\"distilbert\", \"../model\",  use_cuda=False, args=model_args, num_labels=3)\n"
   ]
  },
  {
   "cell_type": "code",
   "execution_count": 3,
   "metadata": {},
   "outputs": [],
   "source": [
    "label_dict = {0: 'Nasty', 1: 'Neutral', 2: 'Nice'}\n",
    "\n",
    "def prediction(text: str):\n",
    "    final_prediction, _ = my_model.predict([text])\n",
    "    for result in final_prediction:\n",
    "        return label_dict[result]"
   ]
  },
  {
   "cell_type": "code",
   "execution_count": 4,
   "metadata": {},
   "outputs": [],
   "source": [
    "from wtforms import (Form, validators, SubmitField, \n",
    "DecimalField, IntegerField, StringField)\n",
    "\n",
    "class ReusableForm(Form):\n",
    "    \"\"\"User entry form for entering specifics for generation\"\"\"\n",
    "    # Number of words\n",
    "    words = StringField('Enter the sentence:', validators=[validators.DataRequired()])\n",
    "    # Submit button\n",
    "    submit = SubmitField(\"Enter\")\n",
    "    "
   ]
  },
  {
   "cell_type": "code",
   "execution_count": 5,
   "metadata": {},
   "outputs": [],
   "source": [
    "from flask import Flask, render_template, request\n",
    "from utils import generate"
   ]
  },
  {
   "cell_type": "code",
   "execution_count": 6,
   "metadata": {},
   "outputs": [
    {
     "name": "stdout",
     "output_type": "stream",
     "text": [
      " * Serving Flask app '__main__' (lazy loading)\n",
      " * Environment: production\n",
      "   WARNING: This is a development server. Do not use it in a production deployment.\n",
      "   Use a production WSGI server instead.\n",
      " * Debug mode: off\n"
     ]
    },
    {
     "name": "stderr",
     "output_type": "stream",
     "text": [
      " * Running on all addresses.\n",
      "   WARNING: This is a development server. Do not use it in a production deployment.\n",
      " * Running on http://192.168.1.37:50000/ (Press CTRL+C to quit)\n",
      "192.168.1.37 - - [27/Apr/2022 18:38:08] \"GET / HTTP/1.1\" 200 -\n",
      "192.168.1.37 - - [27/Apr/2022 18:38:08] \"GET /static/css/main.css HTTP/1.1\" 404 -\n",
      "100%|██████████| 1/1 [00:06<00:00,  6.10s/it]\n",
      "100%|██████████| 1/1 [00:00<00:00,  2.54it/s]\n",
      "192.168.1.37 - - [27/Apr/2022 18:38:19] \"POST / HTTP/1.1\" 200 -\n",
      "192.168.1.37 - - [27/Apr/2022 18:38:19] \"GET /static/css/main.css HTTP/1.1\" 404 -\n",
      "192.168.1.37 - - [27/Apr/2022 18:40:06] \"GET / HTTP/1.1\" 200 -\n",
      "100%|██████████| 1/1 [00:06<00:00,  6.05s/it]\n",
      "100%|██████████| 1/1 [00:00<00:00,  3.89it/s]\n",
      "192.168.1.37 - - [27/Apr/2022 18:40:50] \"POST / HTTP/1.1\" 200 -\n",
      "192.168.1.37 - - [27/Apr/2022 18:40:50] \"GET /static/css/main.css HTTP/1.1\" 404 -\n",
      "192.168.1.37 - - [27/Apr/2022 18:49:32] \"GET / HTTP/1.1\" 200 -\n",
      "192.168.1.37 - - [27/Apr/2022 18:49:32] \"GET /static/css/main.css HTTP/1.1\" 404 -\n"
     ]
    }
   ],
   "source": [
    "\n",
    "app = Flask(__name__, template_folder='template')\n",
    "\n",
    "# Home page\n",
    "@app.route(\"/\", methods=['GET', 'POST'])\n",
    "@app.route(\"/\", methods=['GET', 'POST'])\n",
    "def home():\n",
    "    \"\"\"Home page of app with form\"\"\"\n",
    "    \n",
    "    # Create form\n",
    "    form = ReusableForm(request.form)\n",
    "\n",
    "    # On form entry and all conditions met\n",
    "    if request.method == 'POST' and form.validate():\n",
    "        # Extract information\n",
    "        words = request.form['words']\n",
    "        # Generate a random sequence\n",
    "        return render_template('result.html', \n",
    "                                input=generate(words, prediction(words)))\n",
    "    # Send template information to index.html\n",
    "    return render_template('index.html', form=form)\n",
    "\n",
    "app.run(host='0.0.0.0', port=50000)"
   ]
  }
 ],
 "metadata": {
  "kernelspec": {
   "display_name": "Python 3.8.2 32-bit",
   "language": "python",
   "name": "python3"
  },
  "language_info": {
   "codemirror_mode": {
    "name": "ipython",
    "version": 3
   },
   "file_extension": ".py",
   "mimetype": "text/x-python",
   "name": "python",
   "nbconvert_exporter": "python",
   "pygments_lexer": "ipython3",
   "version": "3.8.2"
  },
  "orig_nbformat": 4,
  "vscode": {
   "interpreter": {
    "hash": "6d1e45cadc3597bb8b6600530fbdf8c3eefe919a24ef54d9d32b318795b772e0"
   }
  }
 },
 "nbformat": 4,
 "nbformat_minor": 2
}
