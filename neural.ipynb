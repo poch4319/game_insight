{
 "cells": [
  {
   "cell_type": "code",
   "execution_count": 1,
   "metadata": {},
   "outputs": [],
   "source": [
    "from transformers import pipeline, AutoModelForTokenClassification, AutoTokenizer\n",
    "\n",
    "import json\n",
    "import pandas as pd \n",
    "import gzip \n",
    "import altair as alt # for plotting data\n",
    "from imblearn.under_sampling import RandomUnderSampler\n",
    "import numpy as np\n",
    "import seaborn as sns\n",
    "import torch\n",
    "from sklearn.metrics import classification_report\n",
    "\n"
   ]
  },
  {
   "cell_type": "markdown",
   "metadata": {},
   "source": [
    "### Pretrained Sentiment Analysis Bert Model"
   ]
  },
  {
   "cell_type": "code",
   "execution_count": 5,
   "metadata": {},
   "outputs": [
    {
     "name": "stderr",
     "output_type": "stream",
     "text": [
      "No model was supplied, defaulted to distilbert-base-uncased-finetuned-sst-2-english (https://huggingface.co/distilbert-base-uncased-finetuned-sst-2-english)\n"
     ]
    }
   ],
   "source": [
    "pipe = pipeline('sentiment-analysis', device=0) # add device to activate cuda please\n",
    "# distilbert-base-uncased-finetuned-sst-2-english"
   ]
  },
  {
   "cell_type": "code",
   "execution_count": 6,
   "metadata": {},
   "outputs": [
    {
     "data": {
      "text/html": [
       "<div>\n",
       "<style scoped>\n",
       "    .dataframe tbody tr th:only-of-type {\n",
       "        vertical-align: middle;\n",
       "    }\n",
       "\n",
       "    .dataframe tbody tr th {\n",
       "        vertical-align: top;\n",
       "    }\n",
       "\n",
       "    .dataframe thead th {\n",
       "        text-align: right;\n",
       "    }\n",
       "</style>\n",
       "<table border=\"1\" class=\"dataframe\">\n",
       "  <thead>\n",
       "    <tr style=\"text-align: right;\">\n",
       "      <th></th>\n",
       "      <th>ratings</th>\n",
       "      <th>review</th>\n",
       "      <th>dict_sentiment</th>\n",
       "      <th>rating_category</th>\n",
       "      <th>sent_category</th>\n",
       "      <th>match</th>\n",
       "    </tr>\n",
       "  </thead>\n",
       "  <tbody>\n",
       "    <tr>\n",
       "      <th>0</th>\n",
       "      <td>1.0</td>\n",
       "      <td>Let's face it. Nintendo only made one good sys...</td>\n",
       "      <td>0.333333</td>\n",
       "      <td>0.0</td>\n",
       "      <td>1.0</td>\n",
       "      <td>False</td>\n",
       "    </tr>\n",
       "    <tr>\n",
       "      <th>1</th>\n",
       "      <td>1.0</td>\n",
       "      <td>I enjoy the Wii sports games and when I purcha...</td>\n",
       "      <td>0.333333</td>\n",
       "      <td>0.0</td>\n",
       "      <td>1.0</td>\n",
       "      <td>False</td>\n",
       "    </tr>\n",
       "    <tr>\n",
       "      <th>2</th>\n",
       "      <td>1.0</td>\n",
       "      <td>This Game Sucks The First Was Better. It Has M...</td>\n",
       "      <td>-0.400000</td>\n",
       "      <td>0.0</td>\n",
       "      <td>0.0</td>\n",
       "      <td>True</td>\n",
       "    </tr>\n",
       "    <tr>\n",
       "      <th>3</th>\n",
       "      <td>1.0</td>\n",
       "      <td>First, there is nothing about this to really w...</td>\n",
       "      <td>-0.153846</td>\n",
       "      <td>0.0</td>\n",
       "      <td>0.0</td>\n",
       "      <td>True</td>\n",
       "    </tr>\n",
       "    <tr>\n",
       "      <th>4</th>\n",
       "      <td>1.0</td>\n",
       "      <td>This was much better on Nintendo 64. This is j...</td>\n",
       "      <td>0.750000</td>\n",
       "      <td>0.0</td>\n",
       "      <td>2.0</td>\n",
       "      <td>False</td>\n",
       "    </tr>\n",
       "  </tbody>\n",
       "</table>\n",
       "</div>"
      ],
      "text/plain": [
       "   ratings                                             review  dict_sentiment  \\\n",
       "0      1.0  Let's face it. Nintendo only made one good sys...        0.333333   \n",
       "1      1.0  I enjoy the Wii sports games and when I purcha...        0.333333   \n",
       "2      1.0  This Game Sucks The First Was Better. It Has M...       -0.400000   \n",
       "3      1.0  First, there is nothing about this to really w...       -0.153846   \n",
       "4      1.0  This was much better on Nintendo 64. This is j...        0.750000   \n",
       "\n",
       "   rating_category  sent_category  match  \n",
       "0              0.0            1.0  False  \n",
       "1              0.0            1.0  False  \n",
       "2              0.0            0.0   True  \n",
       "3              0.0            0.0   True  \n",
       "4              0.0            2.0  False  "
      ]
     },
     "execution_count": 6,
     "metadata": {},
     "output_type": "execute_result"
    }
   ],
   "source": [
    "dict_result = pd.read_table('review_corpus_dict_sentiment.tsv')\n",
    "dict_result.head()"
   ]
  },
  {
   "cell_type": "code",
   "execution_count": 7,
   "metadata": {},
   "outputs": [],
   "source": [
    "reviews = dict_result['review'].tolist()\n",
    "default_predict = pipe(reviews, num_workers=0, truncation=True, padding=True) # notice how num_workers can be used here\n",
    "# unfortunately we have to truncate a lot, there must a better way to do this so we dont lost too much information\n",
    "# meanwhile its ok i guess because it is not used for training, the model is already trained anyway\n",
    "#default_predict = pipe.preprocess(reviews, truncation=True, padding=True)"
   ]
  },
  {
   "cell_type": "code",
   "execution_count": 8,
   "metadata": {},
   "outputs": [],
   "source": [
    "def get_labels(predict):\n",
    "    labels = []\n",
    "    for result in predict:\n",
    "        if result['label'] == 'NEGATIVE' and result['score'] >= 0.75:\n",
    "            labels.append(0)\n",
    "        elif result['label'] == 'POSITIVE' and result['score'] >= 0.75:\n",
    "            labels.append(2)\n",
    "        else:\n",
    "            labels.append(1)\n",
    "    return labels\n",
    "# it's hard to find the threshold as the output is not a \"sentiment score\" we define in the dictionary based model\n",
    "# but i guess one can still try to combine the probability into a sentiment score, say POSITIVE Probability - NEGATIVE Probabiliy\n",
    "# not sure if there will be a scaling problem, but our focus is to build the sentiment classifier later by ourselves\n",
    "sent_pipe_labels = get_labels(default_predict)"
   ]
  },
  {
   "cell_type": "code",
   "execution_count": 9,
   "metadata": {},
   "outputs": [
    {
     "name": "stdout",
     "output_type": "stream",
     "text": [
      "2361\n",
      "128\n",
      "2011\n"
     ]
    }
   ],
   "source": [
    "print(sent_pipe_labels.count(0))\n",
    "print(sent_pipe_labels.count(1))\n",
    "print(sent_pipe_labels.count(2))"
   ]
  },
  {
   "cell_type": "code",
   "execution_count": 10,
   "metadata": {},
   "outputs": [
    {
     "name": "stdout",
     "output_type": "stream",
     "text": [
      "              precision    recall  f1-score   support\n",
      "\n",
      "    negative       0.68      0.52      0.59      1500\n",
      "     neutral       0.41      0.49      0.44      1500\n",
      "    positive       0.61      0.64      0.63      1500\n",
      "\n",
      "    accuracy                           0.55      4500\n",
      "   macro avg       0.57      0.55      0.55      4500\n",
      "weighted avg       0.57      0.55      0.55      4500\n",
      "\n"
     ]
    }
   ],
   "source": [
    "dict_result['sent_pipe_labels'] = sent_pipe_labels\n",
    "\n",
    "# y_true, y_pred\n",
    "target_names = [\"negative\", \"neutral\", \"positive\"]\n",
    "print(\n",
    "    classification_report(dict_result['rating_category'], dict_result['sent_category'], target_names=target_names)\n",
    ")\n"
   ]
  },
  {
   "cell_type": "code",
   "execution_count": 11,
   "metadata": {},
   "outputs": [
    {
     "name": "stdout",
     "output_type": "stream",
     "text": [
      "              precision    recall  f1-score   support\n",
      "\n",
      "    negative       0.60      0.95      0.74      1500\n",
      "     neutral       0.55      0.05      0.09      1500\n",
      "    positive       0.66      0.89      0.76      1500\n",
      "\n",
      "    accuracy                           0.63      4500\n",
      "   macro avg       0.60      0.63      0.53      4500\n",
      "weighted avg       0.60      0.63      0.53      4500\n",
      "\n"
     ]
    }
   ],
   "source": [
    "target_names = [\"negative\", \"neutral\", \"positive\"]\n",
    "print(\n",
    "    classification_report(dict_result['rating_category'], dict_result['sent_pipe_labels'], target_names=target_names)\n",
    ")"
   ]
  },
  {
   "cell_type": "code",
   "execution_count": 12,
   "metadata": {},
   "outputs": [],
   "source": [
    "with open(\"datav3_dict_pipe.tsv\", \"w\") as outfile:\n",
    "    outfile.write(dict_result.to_csv(index=False, sep=\"\\t\"))"
   ]
  },
  {
   "cell_type": "markdown",
   "metadata": {},
   "source": [
    "experiences a lot of problem with packages in conda env:\n",
    "1. never able to install transformers and pytorch properly\n",
    "2. found out pip does not install into the activated env (why???)\n",
    "3. some conda installation doesn't work properly...\n",
    "4. as long as cuda version of the GPU is up to date with the pytorch one, cuda should be able to run (fail)\n",
    "5. eventually important things is better to be installed using conda env propmt from conda navigater (right click the play sign)\n",
    "\n",
    "1. transformers pipeline is so easy to initialize and use\n",
    "2. be careful when num_worker, it cannot be applied to initialization, it can only be apply to when pipeline is used, as an argument"
   ]
  },
  {
   "cell_type": "markdown",
   "metadata": {},
   "source": [
    "### Finetune BERT Model"
   ]
  },
  {
   "cell_type": "code",
   "execution_count": 3,
   "metadata": {},
   "outputs": [
    {
     "data": {
      "text/html": [
       "<div>\n",
       "<style scoped>\n",
       "    .dataframe tbody tr th:only-of-type {\n",
       "        vertical-align: middle;\n",
       "    }\n",
       "\n",
       "    .dataframe tbody tr th {\n",
       "        vertical-align: top;\n",
       "    }\n",
       "\n",
       "    .dataframe thead th {\n",
       "        text-align: right;\n",
       "    }\n",
       "</style>\n",
       "<table border=\"1\" class=\"dataframe\">\n",
       "  <thead>\n",
       "    <tr style=\"text-align: right;\">\n",
       "      <th></th>\n",
       "      <th>ratings</th>\n",
       "      <th>review</th>\n",
       "      <th>dict_sentiment</th>\n",
       "      <th>rating_category</th>\n",
       "      <th>sent_category</th>\n",
       "      <th>match</th>\n",
       "      <th>sent_pipe_labels</th>\n",
       "    </tr>\n",
       "  </thead>\n",
       "  <tbody>\n",
       "    <tr>\n",
       "      <th>0</th>\n",
       "      <td>1.0</td>\n",
       "      <td>Let's face it. Nintendo only made one good sys...</td>\n",
       "      <td>0.333333</td>\n",
       "      <td>0.0</td>\n",
       "      <td>1.0</td>\n",
       "      <td>False</td>\n",
       "      <td>0</td>\n",
       "    </tr>\n",
       "    <tr>\n",
       "      <th>1</th>\n",
       "      <td>1.0</td>\n",
       "      <td>I enjoy the Wii sports games and when I purcha...</td>\n",
       "      <td>0.333333</td>\n",
       "      <td>0.0</td>\n",
       "      <td>1.0</td>\n",
       "      <td>False</td>\n",
       "      <td>0</td>\n",
       "    </tr>\n",
       "    <tr>\n",
       "      <th>2</th>\n",
       "      <td>1.0</td>\n",
       "      <td>This Game Sucks The First Was Better. It Has M...</td>\n",
       "      <td>-0.400000</td>\n",
       "      <td>0.0</td>\n",
       "      <td>0.0</td>\n",
       "      <td>True</td>\n",
       "      <td>0</td>\n",
       "    </tr>\n",
       "    <tr>\n",
       "      <th>3</th>\n",
       "      <td>1.0</td>\n",
       "      <td>First, there is nothing about this to really w...</td>\n",
       "      <td>-0.153846</td>\n",
       "      <td>0.0</td>\n",
       "      <td>0.0</td>\n",
       "      <td>True</td>\n",
       "      <td>0</td>\n",
       "    </tr>\n",
       "    <tr>\n",
       "      <th>4</th>\n",
       "      <td>1.0</td>\n",
       "      <td>This was much better on Nintendo 64. This is j...</td>\n",
       "      <td>0.750000</td>\n",
       "      <td>0.0</td>\n",
       "      <td>2.0</td>\n",
       "      <td>False</td>\n",
       "      <td>0</td>\n",
       "    </tr>\n",
       "  </tbody>\n",
       "</table>\n",
       "</div>"
      ],
      "text/plain": [
       "   ratings                                             review  dict_sentiment  \\\n",
       "0      1.0  Let's face it. Nintendo only made one good sys...        0.333333   \n",
       "1      1.0  I enjoy the Wii sports games and when I purcha...        0.333333   \n",
       "2      1.0  This Game Sucks The First Was Better. It Has M...       -0.400000   \n",
       "3      1.0  First, there is nothing about this to really w...       -0.153846   \n",
       "4      1.0  This was much better on Nintendo 64. This is j...        0.750000   \n",
       "\n",
       "   rating_category  sent_category  match  sent_pipe_labels  \n",
       "0              0.0            1.0  False                 0  \n",
       "1              0.0            1.0  False                 0  \n",
       "2              0.0            0.0   True                 0  \n",
       "3              0.0            0.0   True                 0  \n",
       "4              0.0            2.0  False                 0  "
      ]
     },
     "execution_count": 3,
     "metadata": {},
     "output_type": "execute_result"
    }
   ],
   "source": [
    "dict_result = pd.read_table('datav3_dict_pipe.tsv')\n",
    "dict_result.head()"
   ]
  },
  {
   "cell_type": "code",
   "execution_count": 4,
   "metadata": {},
   "outputs": [
    {
     "data": {
      "text/plain": [
       "True"
      ]
     },
     "execution_count": 4,
     "metadata": {},
     "output_type": "execute_result"
    }
   ],
   "source": [
    "torch.cuda.is_available()"
   ]
  },
  {
   "cell_type": "code",
   "execution_count": 8,
   "metadata": {},
   "outputs": [],
   "source": [
    "from simpletransformers.classification import ClassificationModel\n",
    "from sklearn.model_selection import train_test_split\n",
    "cuda_available = torch.cuda.is_available()\n",
    "model_args = {\n",
    "    \"max_seq_length\": 512,\n",
    "    \"evaluate_during_training\": True,\n",
    "    \"num_train_epochs\": 20,\n",
    "    \"train_batch_size\": 10,\n",
    "    \"eval_batch_size\": 10,\n",
    "    \"output_dir\": \"./model/\",\n",
    "    \"best_model_dir\": \"./model/\",\n",
    "    \"dataloader_num_workers\": 0,\n",
    "    \"use_multiprocessing\": False,\n",
    "    \"logging_steps\": 50\n",
    "}"
   ]
  },
  {
   "cell_type": "code",
   "execution_count": 6,
   "metadata": {},
   "outputs": [
    {
     "name": "stderr",
     "output_type": "stream",
     "text": [
      "Some weights of the model checkpoint at distilbert-base-uncased were not used when initializing DistilBertForSequenceClassification: ['vocab_projector.weight', 'vocab_layer_norm.weight', 'vocab_layer_norm.bias', 'vocab_projector.bias', 'vocab_transform.weight', 'vocab_transform.bias']\n",
      "- This IS expected if you are initializing DistilBertForSequenceClassification from the checkpoint of a model trained on another task or with another architecture (e.g. initializing a BertForSequenceClassification model from a BertForPreTraining model).\n",
      "- This IS NOT expected if you are initializing DistilBertForSequenceClassification from the checkpoint of a model that you expect to be exactly identical (initializing a BertForSequenceClassification model from a BertForSequenceClassification model).\n",
      "Some weights of DistilBertForSequenceClassification were not initialized from the model checkpoint at distilbert-base-uncased and are newly initialized: ['classifier.bias', 'classifier.weight', 'pre_classifier.weight', 'pre_classifier.bias']\n",
      "You should probably TRAIN this model on a down-stream task to be able to use it for predictions and inference.\n"
     ]
    }
   ],
   "source": [
    "# cased means it covers both upper and lower cased\n",
    "# uncased means the case are irrelevant (also the tokenizer within the pipeline lower everything for you so you dont have to lower the data)\n",
    "\n",
    "\n",
    "my_model = ClassificationModel(\"distilbert\", \"distilbert-base-uncased\",  use_cuda=cuda_available, args=model_args, cuda_device=0, num_labels=3)\n"
   ]
  },
  {
   "cell_type": "code",
   "execution_count": 7,
   "metadata": {},
   "outputs": [],
   "source": [
    "x = dict_result['review']\n",
    "y = dict_result['rating_category']\n",
    "x_train, x_test, y_train, y_test = train_test_split(x, y, test_size=0.2, stratify=y)\n",
    "train_df = pd.DataFrame({\n",
    "    \"text\": x_train,\n",
    "    \"labels\": y_train\n",
    "})\n",
    "eval_df = pd.DataFrame({\n",
    "    \"text\": x_test,\n",
    "    \"labels\": y_test\n",
    "})"
   ]
  },
  {
   "cell_type": "code",
   "execution_count": 7,
   "metadata": {},
   "outputs": [
    {
     "ename": "RuntimeError",
     "evalue": "CUDA out of memory. Tried to allocate 20.00 MiB (GPU 0; 4.00 GiB total capacity; 2.97 GiB already allocated; 0 bytes free; 2.98 GiB reserved in total by PyTorch) If reserved memory is >> allocated memory try setting max_split_size_mb to avoid fragmentation.  See documentation for Memory Management and PYTORCH_CUDA_ALLOC_CONF",
     "output_type": "error",
     "traceback": [
      "\u001b[1;31m---------------------------------------------------------------------------\u001b[0m",
      "\u001b[1;31mRuntimeError\u001b[0m                              Traceback (most recent call last)",
      "\u001b[1;32m~\\AppData\\Local\\Temp/ipykernel_12656/1952210320.py\u001b[0m in \u001b[0;36m<module>\u001b[1;34m\u001b[0m\n\u001b[0;32m      1\u001b[0m \u001b[1;31m# Train the model\u001b[0m\u001b[1;33m\u001b[0m\u001b[1;33m\u001b[0m\u001b[0m\n\u001b[1;32m----> 2\u001b[1;33m \u001b[0mmy_model\u001b[0m\u001b[1;33m.\u001b[0m\u001b[0mtrain_model\u001b[0m\u001b[1;33m(\u001b[0m\u001b[0mtrain_df\u001b[0m\u001b[1;33m,\u001b[0m \u001b[0meval_df\u001b[0m\u001b[1;33m=\u001b[0m\u001b[0meval_df\u001b[0m\u001b[1;33m)\u001b[0m\u001b[1;33m\u001b[0m\u001b[1;33m\u001b[0m\u001b[0m\n\u001b[0m\u001b[0;32m      3\u001b[0m \u001b[1;33m\u001b[0m\u001b[0m\n\u001b[0;32m      4\u001b[0m \u001b[1;31m# Evaluate the model\u001b[0m\u001b[1;33m\u001b[0m\u001b[1;33m\u001b[0m\u001b[0m\n\u001b[0;32m      5\u001b[0m \u001b[1;31m#result, model_outputs, wrong_predictions = model.eval_model(eval_df)\u001b[0m\u001b[1;33m\u001b[0m\u001b[1;33m\u001b[0m\u001b[0m\n",
      "\u001b[1;32m~\\Anaconda3\\envs\\proo\\lib\\site-packages\\simpletransformers\\classification\\classification_model.py\u001b[0m in \u001b[0;36mtrain_model\u001b[1;34m(self, train_df, multi_label, output_dir, show_running_loss, args, eval_df, verbose, **kwargs)\u001b[0m\n\u001b[0;32m    524\u001b[0m                 )\n\u001b[0;32m    525\u001b[0m             )\n\u001b[1;32m--> 526\u001b[1;33m         \u001b[0mself\u001b[0m\u001b[1;33m.\u001b[0m\u001b[0m_move_model_to_device\u001b[0m\u001b[1;33m(\u001b[0m\u001b[1;33m)\u001b[0m\u001b[1;33m\u001b[0m\u001b[1;33m\u001b[0m\u001b[0m\n\u001b[0m\u001b[0;32m    527\u001b[0m \u001b[1;33m\u001b[0m\u001b[0m\n\u001b[0;32m    528\u001b[0m         \u001b[1;32mif\u001b[0m \u001b[0mself\u001b[0m\u001b[1;33m.\u001b[0m\u001b[0margs\u001b[0m\u001b[1;33m.\u001b[0m\u001b[0muse_hf_datasets\u001b[0m\u001b[1;33m:\u001b[0m\u001b[1;33m\u001b[0m\u001b[1;33m\u001b[0m\u001b[0m\n",
      "\u001b[1;32m~\\Anaconda3\\envs\\proo\\lib\\site-packages\\simpletransformers\\classification\\classification_model.py\u001b[0m in \u001b[0;36m_move_model_to_device\u001b[1;34m(self)\u001b[0m\n\u001b[0;32m   2272\u001b[0m \u001b[1;33m\u001b[0m\u001b[0m\n\u001b[0;32m   2273\u001b[0m     \u001b[1;32mdef\u001b[0m \u001b[0m_move_model_to_device\u001b[0m\u001b[1;33m(\u001b[0m\u001b[0mself\u001b[0m\u001b[1;33m)\u001b[0m\u001b[1;33m:\u001b[0m\u001b[1;33m\u001b[0m\u001b[1;33m\u001b[0m\u001b[0m\n\u001b[1;32m-> 2274\u001b[1;33m         \u001b[0mself\u001b[0m\u001b[1;33m.\u001b[0m\u001b[0mmodel\u001b[0m\u001b[1;33m.\u001b[0m\u001b[0mto\u001b[0m\u001b[1;33m(\u001b[0m\u001b[0mself\u001b[0m\u001b[1;33m.\u001b[0m\u001b[0mdevice\u001b[0m\u001b[1;33m)\u001b[0m\u001b[1;33m\u001b[0m\u001b[1;33m\u001b[0m\u001b[0m\n\u001b[0m\u001b[0;32m   2275\u001b[0m \u001b[1;33m\u001b[0m\u001b[0m\n\u001b[0;32m   2276\u001b[0m     \u001b[1;32mdef\u001b[0m \u001b[0m_get_inputs_dict\u001b[0m\u001b[1;33m(\u001b[0m\u001b[0mself\u001b[0m\u001b[1;33m,\u001b[0m \u001b[0mbatch\u001b[0m\u001b[1;33m,\u001b[0m \u001b[0mno_hf\u001b[0m\u001b[1;33m=\u001b[0m\u001b[1;32mFalse\u001b[0m\u001b[1;33m)\u001b[0m\u001b[1;33m:\u001b[0m\u001b[1;33m\u001b[0m\u001b[1;33m\u001b[0m\u001b[0m\n",
      "\u001b[1;32m~\\Anaconda3\\envs\\proo\\lib\\site-packages\\torch\\nn\\modules\\module.py\u001b[0m in \u001b[0;36mto\u001b[1;34m(self, *args, **kwargs)\u001b[0m\n\u001b[0;32m    897\u001b[0m             \u001b[1;32mreturn\u001b[0m \u001b[0mt\u001b[0m\u001b[1;33m.\u001b[0m\u001b[0mto\u001b[0m\u001b[1;33m(\u001b[0m\u001b[0mdevice\u001b[0m\u001b[1;33m,\u001b[0m \u001b[0mdtype\u001b[0m \u001b[1;32mif\u001b[0m \u001b[0mt\u001b[0m\u001b[1;33m.\u001b[0m\u001b[0mis_floating_point\u001b[0m\u001b[1;33m(\u001b[0m\u001b[1;33m)\u001b[0m \u001b[1;32mor\u001b[0m \u001b[0mt\u001b[0m\u001b[1;33m.\u001b[0m\u001b[0mis_complex\u001b[0m\u001b[1;33m(\u001b[0m\u001b[1;33m)\u001b[0m \u001b[1;32melse\u001b[0m \u001b[1;32mNone\u001b[0m\u001b[1;33m,\u001b[0m \u001b[0mnon_blocking\u001b[0m\u001b[1;33m)\u001b[0m\u001b[1;33m\u001b[0m\u001b[1;33m\u001b[0m\u001b[0m\n\u001b[0;32m    898\u001b[0m \u001b[1;33m\u001b[0m\u001b[0m\n\u001b[1;32m--> 899\u001b[1;33m         \u001b[1;32mreturn\u001b[0m \u001b[0mself\u001b[0m\u001b[1;33m.\u001b[0m\u001b[0m_apply\u001b[0m\u001b[1;33m(\u001b[0m\u001b[0mconvert\u001b[0m\u001b[1;33m)\u001b[0m\u001b[1;33m\u001b[0m\u001b[1;33m\u001b[0m\u001b[0m\n\u001b[0m\u001b[0;32m    900\u001b[0m \u001b[1;33m\u001b[0m\u001b[0m\n\u001b[0;32m    901\u001b[0m     def register_backward_hook(\n",
      "\u001b[1;32m~\\Anaconda3\\envs\\proo\\lib\\site-packages\\torch\\nn\\modules\\module.py\u001b[0m in \u001b[0;36m_apply\u001b[1;34m(self, fn)\u001b[0m\n\u001b[0;32m    568\u001b[0m     \u001b[1;32mdef\u001b[0m \u001b[0m_apply\u001b[0m\u001b[1;33m(\u001b[0m\u001b[0mself\u001b[0m\u001b[1;33m,\u001b[0m \u001b[0mfn\u001b[0m\u001b[1;33m)\u001b[0m\u001b[1;33m:\u001b[0m\u001b[1;33m\u001b[0m\u001b[1;33m\u001b[0m\u001b[0m\n\u001b[0;32m    569\u001b[0m         \u001b[1;32mfor\u001b[0m \u001b[0mmodule\u001b[0m \u001b[1;32min\u001b[0m \u001b[0mself\u001b[0m\u001b[1;33m.\u001b[0m\u001b[0mchildren\u001b[0m\u001b[1;33m(\u001b[0m\u001b[1;33m)\u001b[0m\u001b[1;33m:\u001b[0m\u001b[1;33m\u001b[0m\u001b[1;33m\u001b[0m\u001b[0m\n\u001b[1;32m--> 570\u001b[1;33m             \u001b[0mmodule\u001b[0m\u001b[1;33m.\u001b[0m\u001b[0m_apply\u001b[0m\u001b[1;33m(\u001b[0m\u001b[0mfn\u001b[0m\u001b[1;33m)\u001b[0m\u001b[1;33m\u001b[0m\u001b[1;33m\u001b[0m\u001b[0m\n\u001b[0m\u001b[0;32m    571\u001b[0m \u001b[1;33m\u001b[0m\u001b[0m\n\u001b[0;32m    572\u001b[0m         \u001b[1;32mdef\u001b[0m \u001b[0mcompute_should_use_set_data\u001b[0m\u001b[1;33m(\u001b[0m\u001b[0mtensor\u001b[0m\u001b[1;33m,\u001b[0m \u001b[0mtensor_applied\u001b[0m\u001b[1;33m)\u001b[0m\u001b[1;33m:\u001b[0m\u001b[1;33m\u001b[0m\u001b[1;33m\u001b[0m\u001b[0m\n",
      "\u001b[1;32m~\\Anaconda3\\envs\\proo\\lib\\site-packages\\torch\\nn\\modules\\module.py\u001b[0m in \u001b[0;36m_apply\u001b[1;34m(self, fn)\u001b[0m\n\u001b[0;32m    568\u001b[0m     \u001b[1;32mdef\u001b[0m \u001b[0m_apply\u001b[0m\u001b[1;33m(\u001b[0m\u001b[0mself\u001b[0m\u001b[1;33m,\u001b[0m \u001b[0mfn\u001b[0m\u001b[1;33m)\u001b[0m\u001b[1;33m:\u001b[0m\u001b[1;33m\u001b[0m\u001b[1;33m\u001b[0m\u001b[0m\n\u001b[0;32m    569\u001b[0m         \u001b[1;32mfor\u001b[0m \u001b[0mmodule\u001b[0m \u001b[1;32min\u001b[0m \u001b[0mself\u001b[0m\u001b[1;33m.\u001b[0m\u001b[0mchildren\u001b[0m\u001b[1;33m(\u001b[0m\u001b[1;33m)\u001b[0m\u001b[1;33m:\u001b[0m\u001b[1;33m\u001b[0m\u001b[1;33m\u001b[0m\u001b[0m\n\u001b[1;32m--> 570\u001b[1;33m             \u001b[0mmodule\u001b[0m\u001b[1;33m.\u001b[0m\u001b[0m_apply\u001b[0m\u001b[1;33m(\u001b[0m\u001b[0mfn\u001b[0m\u001b[1;33m)\u001b[0m\u001b[1;33m\u001b[0m\u001b[1;33m\u001b[0m\u001b[0m\n\u001b[0m\u001b[0;32m    571\u001b[0m \u001b[1;33m\u001b[0m\u001b[0m\n\u001b[0;32m    572\u001b[0m         \u001b[1;32mdef\u001b[0m \u001b[0mcompute_should_use_set_data\u001b[0m\u001b[1;33m(\u001b[0m\u001b[0mtensor\u001b[0m\u001b[1;33m,\u001b[0m \u001b[0mtensor_applied\u001b[0m\u001b[1;33m)\u001b[0m\u001b[1;33m:\u001b[0m\u001b[1;33m\u001b[0m\u001b[1;33m\u001b[0m\u001b[0m\n",
      "\u001b[1;32m~\\Anaconda3\\envs\\proo\\lib\\site-packages\\torch\\nn\\modules\\module.py\u001b[0m in \u001b[0;36m_apply\u001b[1;34m(self, fn)\u001b[0m\n\u001b[0;32m    568\u001b[0m     \u001b[1;32mdef\u001b[0m \u001b[0m_apply\u001b[0m\u001b[1;33m(\u001b[0m\u001b[0mself\u001b[0m\u001b[1;33m,\u001b[0m \u001b[0mfn\u001b[0m\u001b[1;33m)\u001b[0m\u001b[1;33m:\u001b[0m\u001b[1;33m\u001b[0m\u001b[1;33m\u001b[0m\u001b[0m\n\u001b[0;32m    569\u001b[0m         \u001b[1;32mfor\u001b[0m \u001b[0mmodule\u001b[0m \u001b[1;32min\u001b[0m \u001b[0mself\u001b[0m\u001b[1;33m.\u001b[0m\u001b[0mchildren\u001b[0m\u001b[1;33m(\u001b[0m\u001b[1;33m)\u001b[0m\u001b[1;33m:\u001b[0m\u001b[1;33m\u001b[0m\u001b[1;33m\u001b[0m\u001b[0m\n\u001b[1;32m--> 570\u001b[1;33m             \u001b[0mmodule\u001b[0m\u001b[1;33m.\u001b[0m\u001b[0m_apply\u001b[0m\u001b[1;33m(\u001b[0m\u001b[0mfn\u001b[0m\u001b[1;33m)\u001b[0m\u001b[1;33m\u001b[0m\u001b[1;33m\u001b[0m\u001b[0m\n\u001b[0m\u001b[0;32m    571\u001b[0m \u001b[1;33m\u001b[0m\u001b[0m\n\u001b[0;32m    572\u001b[0m         \u001b[1;32mdef\u001b[0m \u001b[0mcompute_should_use_set_data\u001b[0m\u001b[1;33m(\u001b[0m\u001b[0mtensor\u001b[0m\u001b[1;33m,\u001b[0m \u001b[0mtensor_applied\u001b[0m\u001b[1;33m)\u001b[0m\u001b[1;33m:\u001b[0m\u001b[1;33m\u001b[0m\u001b[1;33m\u001b[0m\u001b[0m\n",
      "\u001b[1;32m~\\Anaconda3\\envs\\proo\\lib\\site-packages\\torch\\nn\\modules\\module.py\u001b[0m in \u001b[0;36m_apply\u001b[1;34m(self, fn)\u001b[0m\n\u001b[0;32m    568\u001b[0m     \u001b[1;32mdef\u001b[0m \u001b[0m_apply\u001b[0m\u001b[1;33m(\u001b[0m\u001b[0mself\u001b[0m\u001b[1;33m,\u001b[0m \u001b[0mfn\u001b[0m\u001b[1;33m)\u001b[0m\u001b[1;33m:\u001b[0m\u001b[1;33m\u001b[0m\u001b[1;33m\u001b[0m\u001b[0m\n\u001b[0;32m    569\u001b[0m         \u001b[1;32mfor\u001b[0m \u001b[0mmodule\u001b[0m \u001b[1;32min\u001b[0m \u001b[0mself\u001b[0m\u001b[1;33m.\u001b[0m\u001b[0mchildren\u001b[0m\u001b[1;33m(\u001b[0m\u001b[1;33m)\u001b[0m\u001b[1;33m:\u001b[0m\u001b[1;33m\u001b[0m\u001b[1;33m\u001b[0m\u001b[0m\n\u001b[1;32m--> 570\u001b[1;33m             \u001b[0mmodule\u001b[0m\u001b[1;33m.\u001b[0m\u001b[0m_apply\u001b[0m\u001b[1;33m(\u001b[0m\u001b[0mfn\u001b[0m\u001b[1;33m)\u001b[0m\u001b[1;33m\u001b[0m\u001b[1;33m\u001b[0m\u001b[0m\n\u001b[0m\u001b[0;32m    571\u001b[0m \u001b[1;33m\u001b[0m\u001b[0m\n\u001b[0;32m    572\u001b[0m         \u001b[1;32mdef\u001b[0m \u001b[0mcompute_should_use_set_data\u001b[0m\u001b[1;33m(\u001b[0m\u001b[0mtensor\u001b[0m\u001b[1;33m,\u001b[0m \u001b[0mtensor_applied\u001b[0m\u001b[1;33m)\u001b[0m\u001b[1;33m:\u001b[0m\u001b[1;33m\u001b[0m\u001b[1;33m\u001b[0m\u001b[0m\n",
      "\u001b[1;32m~\\Anaconda3\\envs\\proo\\lib\\site-packages\\torch\\nn\\modules\\module.py\u001b[0m in \u001b[0;36m_apply\u001b[1;34m(self, fn)\u001b[0m\n\u001b[0;32m    568\u001b[0m     \u001b[1;32mdef\u001b[0m \u001b[0m_apply\u001b[0m\u001b[1;33m(\u001b[0m\u001b[0mself\u001b[0m\u001b[1;33m,\u001b[0m \u001b[0mfn\u001b[0m\u001b[1;33m)\u001b[0m\u001b[1;33m:\u001b[0m\u001b[1;33m\u001b[0m\u001b[1;33m\u001b[0m\u001b[0m\n\u001b[0;32m    569\u001b[0m         \u001b[1;32mfor\u001b[0m \u001b[0mmodule\u001b[0m \u001b[1;32min\u001b[0m \u001b[0mself\u001b[0m\u001b[1;33m.\u001b[0m\u001b[0mchildren\u001b[0m\u001b[1;33m(\u001b[0m\u001b[1;33m)\u001b[0m\u001b[1;33m:\u001b[0m\u001b[1;33m\u001b[0m\u001b[1;33m\u001b[0m\u001b[0m\n\u001b[1;32m--> 570\u001b[1;33m             \u001b[0mmodule\u001b[0m\u001b[1;33m.\u001b[0m\u001b[0m_apply\u001b[0m\u001b[1;33m(\u001b[0m\u001b[0mfn\u001b[0m\u001b[1;33m)\u001b[0m\u001b[1;33m\u001b[0m\u001b[1;33m\u001b[0m\u001b[0m\n\u001b[0m\u001b[0;32m    571\u001b[0m \u001b[1;33m\u001b[0m\u001b[0m\n\u001b[0;32m    572\u001b[0m         \u001b[1;32mdef\u001b[0m \u001b[0mcompute_should_use_set_data\u001b[0m\u001b[1;33m(\u001b[0m\u001b[0mtensor\u001b[0m\u001b[1;33m,\u001b[0m \u001b[0mtensor_applied\u001b[0m\u001b[1;33m)\u001b[0m\u001b[1;33m:\u001b[0m\u001b[1;33m\u001b[0m\u001b[1;33m\u001b[0m\u001b[0m\n",
      "\u001b[1;32m~\\Anaconda3\\envs\\proo\\lib\\site-packages\\torch\\nn\\modules\\module.py\u001b[0m in \u001b[0;36m_apply\u001b[1;34m(self, fn)\u001b[0m\n\u001b[0;32m    568\u001b[0m     \u001b[1;32mdef\u001b[0m \u001b[0m_apply\u001b[0m\u001b[1;33m(\u001b[0m\u001b[0mself\u001b[0m\u001b[1;33m,\u001b[0m \u001b[0mfn\u001b[0m\u001b[1;33m)\u001b[0m\u001b[1;33m:\u001b[0m\u001b[1;33m\u001b[0m\u001b[1;33m\u001b[0m\u001b[0m\n\u001b[0;32m    569\u001b[0m         \u001b[1;32mfor\u001b[0m \u001b[0mmodule\u001b[0m \u001b[1;32min\u001b[0m \u001b[0mself\u001b[0m\u001b[1;33m.\u001b[0m\u001b[0mchildren\u001b[0m\u001b[1;33m(\u001b[0m\u001b[1;33m)\u001b[0m\u001b[1;33m:\u001b[0m\u001b[1;33m\u001b[0m\u001b[1;33m\u001b[0m\u001b[0m\n\u001b[1;32m--> 570\u001b[1;33m             \u001b[0mmodule\u001b[0m\u001b[1;33m.\u001b[0m\u001b[0m_apply\u001b[0m\u001b[1;33m(\u001b[0m\u001b[0mfn\u001b[0m\u001b[1;33m)\u001b[0m\u001b[1;33m\u001b[0m\u001b[1;33m\u001b[0m\u001b[0m\n\u001b[0m\u001b[0;32m    571\u001b[0m \u001b[1;33m\u001b[0m\u001b[0m\n\u001b[0;32m    572\u001b[0m         \u001b[1;32mdef\u001b[0m \u001b[0mcompute_should_use_set_data\u001b[0m\u001b[1;33m(\u001b[0m\u001b[0mtensor\u001b[0m\u001b[1;33m,\u001b[0m \u001b[0mtensor_applied\u001b[0m\u001b[1;33m)\u001b[0m\u001b[1;33m:\u001b[0m\u001b[1;33m\u001b[0m\u001b[1;33m\u001b[0m\u001b[0m\n",
      "\u001b[1;32m~\\Anaconda3\\envs\\proo\\lib\\site-packages\\torch\\nn\\modules\\module.py\u001b[0m in \u001b[0;36m_apply\u001b[1;34m(self, fn)\u001b[0m\n\u001b[0;32m    591\u001b[0m             \u001b[1;31m# `with torch.no_grad():`\u001b[0m\u001b[1;33m\u001b[0m\u001b[1;33m\u001b[0m\u001b[0m\n\u001b[0;32m    592\u001b[0m             \u001b[1;32mwith\u001b[0m \u001b[0mtorch\u001b[0m\u001b[1;33m.\u001b[0m\u001b[0mno_grad\u001b[0m\u001b[1;33m(\u001b[0m\u001b[1;33m)\u001b[0m\u001b[1;33m:\u001b[0m\u001b[1;33m\u001b[0m\u001b[1;33m\u001b[0m\u001b[0m\n\u001b[1;32m--> 593\u001b[1;33m                 \u001b[0mparam_applied\u001b[0m \u001b[1;33m=\u001b[0m \u001b[0mfn\u001b[0m\u001b[1;33m(\u001b[0m\u001b[0mparam\u001b[0m\u001b[1;33m)\u001b[0m\u001b[1;33m\u001b[0m\u001b[1;33m\u001b[0m\u001b[0m\n\u001b[0m\u001b[0;32m    594\u001b[0m             \u001b[0mshould_use_set_data\u001b[0m \u001b[1;33m=\u001b[0m \u001b[0mcompute_should_use_set_data\u001b[0m\u001b[1;33m(\u001b[0m\u001b[0mparam\u001b[0m\u001b[1;33m,\u001b[0m \u001b[0mparam_applied\u001b[0m\u001b[1;33m)\u001b[0m\u001b[1;33m\u001b[0m\u001b[1;33m\u001b[0m\u001b[0m\n\u001b[0;32m    595\u001b[0m             \u001b[1;32mif\u001b[0m \u001b[0mshould_use_set_data\u001b[0m\u001b[1;33m:\u001b[0m\u001b[1;33m\u001b[0m\u001b[1;33m\u001b[0m\u001b[0m\n",
      "\u001b[1;32m~\\Anaconda3\\envs\\proo\\lib\\site-packages\\torch\\nn\\modules\\module.py\u001b[0m in \u001b[0;36mconvert\u001b[1;34m(t)\u001b[0m\n\u001b[0;32m    895\u001b[0m                 return t.to(device, dtype if t.is_floating_point() or t.is_complex() else None,\n\u001b[0;32m    896\u001b[0m                             non_blocking, memory_format=convert_to_format)\n\u001b[1;32m--> 897\u001b[1;33m             \u001b[1;32mreturn\u001b[0m \u001b[0mt\u001b[0m\u001b[1;33m.\u001b[0m\u001b[0mto\u001b[0m\u001b[1;33m(\u001b[0m\u001b[0mdevice\u001b[0m\u001b[1;33m,\u001b[0m \u001b[0mdtype\u001b[0m \u001b[1;32mif\u001b[0m \u001b[0mt\u001b[0m\u001b[1;33m.\u001b[0m\u001b[0mis_floating_point\u001b[0m\u001b[1;33m(\u001b[0m\u001b[1;33m)\u001b[0m \u001b[1;32mor\u001b[0m \u001b[0mt\u001b[0m\u001b[1;33m.\u001b[0m\u001b[0mis_complex\u001b[0m\u001b[1;33m(\u001b[0m\u001b[1;33m)\u001b[0m \u001b[1;32melse\u001b[0m \u001b[1;32mNone\u001b[0m\u001b[1;33m,\u001b[0m \u001b[0mnon_blocking\u001b[0m\u001b[1;33m)\u001b[0m\u001b[1;33m\u001b[0m\u001b[1;33m\u001b[0m\u001b[0m\n\u001b[0m\u001b[0;32m    898\u001b[0m \u001b[1;33m\u001b[0m\u001b[0m\n\u001b[0;32m    899\u001b[0m         \u001b[1;32mreturn\u001b[0m \u001b[0mself\u001b[0m\u001b[1;33m.\u001b[0m\u001b[0m_apply\u001b[0m\u001b[1;33m(\u001b[0m\u001b[0mconvert\u001b[0m\u001b[1;33m)\u001b[0m\u001b[1;33m\u001b[0m\u001b[1;33m\u001b[0m\u001b[0m\n",
      "\u001b[1;31mRuntimeError\u001b[0m: CUDA out of memory. Tried to allocate 20.00 MiB (GPU 0; 4.00 GiB total capacity; 2.97 GiB already allocated; 0 bytes free; 2.98 GiB reserved in total by PyTorch) If reserved memory is >> allocated memory try setting max_split_size_mb to avoid fragmentation.  See documentation for Memory Management and PYTORCH_CUDA_ALLOC_CONF"
     ]
    }
   ],
   "source": [
    "# Train the model\n",
    "# my_model.train_model(train_df, eval_df=eval_df)"
   ]
  },
  {
   "cell_type": "code",
   "execution_count": 9,
   "metadata": {},
   "outputs": [],
   "source": [
    "# load local saved model\n",
    "\n",
    "my_model = ClassificationModel(\"distilbert\", \"model\",  use_cuda=cuda_available, args=model_args, cuda_device=0, num_labels=3)\n",
    "\n",
    "\n",
    "# Evaluate the model\n",
    "# result, model_outputs, wrong_predictions = my_model.eval_model(eval_df)"
   ]
  },
  {
   "cell_type": "code",
   "execution_count": 34,
   "metadata": {},
   "outputs": [
    {
     "name": "stderr",
     "output_type": "stream",
     "text": [
      "  0%|          | 9/4500 [00:07<1:00:12,  1.24it/s]\n",
      "100%|██████████| 450/450 [03:03<00:00,  2.46it/s]\n"
     ]
    }
   ],
   "source": [
    "final_prediction, _ = my_model.predict(x.tolist())"
   ]
  },
  {
   "cell_type": "code",
   "execution_count": 37,
   "metadata": {},
   "outputs": [
    {
     "name": "stdout",
     "output_type": "stream",
     "text": [
      "              precision    recall  f1-score   support\n",
      "\n",
      "    negative       0.95      0.94      0.95      1500\n",
      "     neutral       0.90      0.91      0.91      1500\n",
      "    positive       0.93      0.92      0.92      1500\n",
      "\n",
      "    accuracy                           0.93      4500\n",
      "   macro avg       0.93      0.93      0.93      4500\n",
      "weighted avg       0.93      0.93      0.93      4500\n",
      "\n"
     ]
    }
   ],
   "source": [
    "target_names = [\"negative\", \"neutral\", \"positive\"]\n",
    "print(\n",
    "    classification_report(dict_result['rating_category'], final_prediction, target_names=target_names)\n",
    ")"
   ]
  },
  {
   "cell_type": "markdown",
   "metadata": {},
   "source": [
    "## TO DO, Create yet another data set for fine-tuning\n",
    "then fine-tune language model (or 直接收尾做 n-gram anaylsis)"
   ]
  },
  {
   "cell_type": "code",
   "execution_count": 2,
   "metadata": {},
   "outputs": [
    {
     "name": "stdout",
     "output_type": "stream",
     "text": [
      "[\"I enjoyed this game but then again I am addicted to the Dash type games.  The game is exactly like Diner Dash except you are a white bear.  The elements are the same..you seat your customers trying to match color, you take their orders, serve them then clean the tables.  Just like Diner Dash you can tie similiar actions together to get a bonus.  Granted there isn't much originality but it is a cute game.\", 'Very pleased with product', 'my kids like it', 'Remember Crash Bandicoot, Spyro, Banjo Kazooie, Super Mario Bros?  If you like those you\\'ll like this.  Remember there are plenty of great games out there without 100 button combos.  Game has great graphics, critics say no \"next gen\" but fail to notice the high about of particle effects, high resolution/fps, and the almost complete lack of jagged lines.  Game is good for kids and parents alike.  It isn\\'t so easy that you should be able to steamroll through it, but not hard enough you\\'ll want to throw your remote out the window.  It reminds me a lot of the old days of gaming and I am glad to have something that isn\\'t CoD rehash for once.', 'love this system so far, so amazing.']\n"
     ]
    }
   ],
   "source": [
    "with open(\"bigdata.txt\") as f:\n",
    "    corpus = f.read().splitlines()\n",
    "\n",
    "print(corpus[:5])"
   ]
  },
  {
   "cell_type": "code",
   "execution_count": 10,
   "metadata": {},
   "outputs": [
    {
     "name": "stderr",
     "output_type": "stream",
     "text": [
      "  0%|          | 20/10000 [00:09<1:17:38,  2.14it/s]\n",
      "100%|██████████| 1000/1000 [06:52<00:00,  2.43it/s]\n"
     ]
    }
   ],
   "source": [
    "big_corpus_prediction, _ = my_model.predict(corpus)"
   ]
  },
  {
   "cell_type": "code",
   "execution_count": 11,
   "metadata": {},
   "outputs": [],
   "source": [
    "big_corpus = pd.DataFrame({'text': corpus, 'sent': big_corpus_prediction})"
   ]
  },
  {
   "cell_type": "code",
   "execution_count": 13,
   "metadata": {},
   "outputs": [
    {
     "data": {
      "text/html": [
       "\n",
       "<div id=\"altair-viz-fef7eab20fa944c18a42db7e19847061\"></div>\n",
       "<script type=\"text/javascript\">\n",
       "  (function(spec, embedOpt){\n",
       "    let outputDiv = document.currentScript.previousElementSibling;\n",
       "    if (outputDiv.id !== \"altair-viz-fef7eab20fa944c18a42db7e19847061\") {\n",
       "      outputDiv = document.getElementById(\"altair-viz-fef7eab20fa944c18a42db7e19847061\");\n",
       "    }\n",
       "    const paths = {\n",
       "      \"vega\": \"https://cdn.jsdelivr.net/npm//vega@5?noext\",\n",
       "      \"vega-lib\": \"https://cdn.jsdelivr.net/npm//vega-lib?noext\",\n",
       "      \"vega-lite\": \"https://cdn.jsdelivr.net/npm//vega-lite@4.8.1?noext\",\n",
       "      \"vega-embed\": \"https://cdn.jsdelivr.net/npm//vega-embed@6?noext\",\n",
       "    };\n",
       "\n",
       "    function loadScript(lib) {\n",
       "      return new Promise(function(resolve, reject) {\n",
       "        var s = document.createElement('script');\n",
       "        s.src = paths[lib];\n",
       "        s.async = true;\n",
       "        s.onload = () => resolve(paths[lib]);\n",
       "        s.onerror = () => reject(`Error loading script: ${paths[lib]}`);\n",
       "        document.getElementsByTagName(\"head\")[0].appendChild(s);\n",
       "      });\n",
       "    }\n",
       "\n",
       "    function showError(err) {\n",
       "      outputDiv.innerHTML = `<div class=\"error\" style=\"color:red;\">${err}</div>`;\n",
       "      throw err;\n",
       "    }\n",
       "\n",
       "    function displayChart(vegaEmbed) {\n",
       "      vegaEmbed(outputDiv, spec, embedOpt)\n",
       "        .catch(err => showError(`Javascript Error: ${err.message}<br>This usually means there's a typo in your chart specification. See the javascript console for the full traceback.`));\n",
       "    }\n",
       "\n",
       "    if(typeof define === \"function\" && define.amd) {\n",
       "      requirejs.config({paths});\n",
       "      require([\"vega-embed\"], displayChart, err => showError(`Error loading script: ${err.message}`));\n",
       "    } else if (typeof vegaEmbed === \"function\") {\n",
       "      displayChart(vegaEmbed);\n",
       "    } else {\n",
       "      loadScript(\"vega\")\n",
       "        .then(() => loadScript(\"vega-lite\"))\n",
       "        .then(() => loadScript(\"vega-embed\"))\n",
       "        .catch(showError)\n",
       "        .then(() => displayChart(vegaEmbed));\n",
       "    }\n",
       "  })({\"config\": {\"view\": {\"continuousWidth\": 400, \"continuousHeight\": 300}}, \"data\": {\"name\": \"data-025d6bbd9274a833046bf93d9313ee52\"}, \"mark\": \"bar\", \"encoding\": {\"x\": {\"type\": \"nominal\", \"field\": \"Sent\"}, \"y\": {\"type\": \"quantitative\", \"field\": \"count\"}}, \"$schema\": \"https://vega.github.io/schema/vega-lite/v4.8.1.json\", \"datasets\": {\"data-025d6bbd9274a833046bf93d9313ee52\": [{\"count\": 1109, \"Sent\": \"Negative\"}, {\"count\": 4373, \"Sent\": \"Neutral\"}, {\"count\": 4518, \"Sent\": \"Positive\"}]}}, {\"mode\": \"vega-lite\"});\n",
       "</script>"
      ],
      "text/plain": [
       "alt.Chart(...)"
      ]
     },
     "execution_count": 13,
     "metadata": {},
     "output_type": "execute_result"
    }
   ],
   "source": [
    "convert = {0: 'Negative', 1: 'Neutral', 2: 'Positive'}\n",
    "\n",
    "counting = []\n",
    "for i in range(3):\n",
    "    count = len(big_corpus[big_corpus['sent'] == i])\n",
    "    counting.append(count)\n",
    "\n",
    "plotdf = pd.DataFrame({\n",
    "    'count': counting,\n",
    "    'Sent': ['Negative', 'Neutral', 'Positive']\n",
    "})\n",
    "\n",
    "chart = alt.Chart(plotdf).mark_bar().encode(\n",
    "    x = 'Sent',\n",
    "    y = 'count'\n",
    ")\n",
    "chart"
   ]
  },
  {
   "cell_type": "code",
   "execution_count": 9,
   "metadata": {},
   "outputs": [
    {
     "name": "stderr",
     "output_type": "stream",
     "text": [
      "[nltk_data] Downloading package stopwords to\n",
      "[nltk_data]     C:\\Users\\abcd8\\AppData\\Roaming\\nltk_data...\n",
      "[nltk_data]   Package stopwords is already up-to-date!\n"
     ]
    }
   ],
   "source": [
    "# import packages for preparing the text for bigram analysis\n",
    "import nltk\n",
    "from nltk.tokenize import word_tokenize, sent_tokenize\n",
    "nltk.download('stopwords')\n",
    "from nltk.corpus import stopwords\n",
    "from nltk.util import bigrams"
   ]
  },
  {
   "cell_type": "code",
   "execution_count": 31,
   "metadata": {},
   "outputs": [],
   "source": [
    "# processed review for bigram analysis\n",
    "def text_processing(review):\n",
    "    words = []\n",
    "    for sentence in sent_tokenize(review):\n",
    "        for w in word_tokenize(sentence):\n",
    "            w = w.lower()\n",
    "            if w not in stopwords.words('english') and w.isalpha():\n",
    "                words.append(w)\n",
    "    return words\n",
    "\n",
    "processed_text = [text_processing(review) for review in big_corpus['text'].tolist()]\n",
    "big_corpus['processed_text'] = processed_text"
   ]
  },
  {
   "cell_type": "code",
   "execution_count": 55,
   "metadata": {},
   "outputs": [],
   "source": [
    "# redo from load\n",
    "processed_text = [json.loads(text.replace('\\'', '\"')) for text in big_corpus['processed_text']]\n",
    "\n",
    "all_bigrams = [[bigram[0] + '_' + bigram[1] for bigram in list(bigrams(t))] for t in processed_text]\n",
    "\n",
    "negative_bigrams = []\n",
    "neutral_bigrams = []\n",
    "positive_bigrams = []\n",
    "\n",
    "for i, score in enumerate(big_corpus['sent'].tolist()):\n",
    "    if score == 0:\n",
    "        negative_bigrams.append(all_bigrams[i])\n",
    "    if score == 1:\n",
    "        neutral_bigrams.append(all_bigrams[i])\n",
    "    if score == 2:\n",
    "        positive_bigrams.append(all_bigrams[i])"
   ]
  },
  {
   "cell_type": "code",
   "execution_count": 42,
   "metadata": {},
   "outputs": [],
   "source": [
    "# save result so far\n",
    "with open(\"final_result/big_corpus_result.tsv\", \"w\") as outfile:\n",
    "    outfile.write(big_corpus.to_csv(index=False, sep=\"\\t\"))"
   ]
  },
  {
   "cell_type": "code",
   "execution_count": 3,
   "metadata": {},
   "outputs": [],
   "source": [
    "big_corpus = pd.read_table('final_result/big_corpus_result.tsv')\n"
   ]
  },
  {
   "cell_type": "code",
   "execution_count": 57,
   "metadata": {},
   "outputs": [],
   "source": [
    "from keyness import log_likelihood\n",
    "\n",
    "positive_keys = log_likelihood(all_bigrams, positive_bigrams)[:150]\n",
    "negative_keys = log_likelihood(all_bigrams, negative_bigrams)[:150]\n",
    "neutral_keys = log_likelihood(all_bigrams, neutral_bigrams)[:150]"
   ]
  },
  {
   "cell_type": "code",
   "execution_count": 58,
   "metadata": {},
   "outputs": [
    {
     "data": {
      "text/plain": [
       "[('waste_money', 40.478, 42, 28),\n",
       " ('highly_recommend', 30.981, 137, 0),\n",
       " ('waste_time', 30.6, 38, 23),\n",
       " ('worst_game', 24.791, 22, 16),\n",
       " ('love_game', 24.382, 286, 9),\n",
       " ('tes_series', 23.1, 12, 12),\n",
       " ('works_great', 22.368, 154, 2),\n",
       " ('great_game', 22.048, 595, 34),\n",
       " ('one_best', 20.372, 290, 11),\n",
       " ('internet_connection', 19.884, 36, 18),\n",
       " ('construction_set', 19.25, 10, 10),\n",
       " ('game_story', 18.996, 84, 0),\n",
       " ('get_used', 18.77, 114, 1),\n",
       " ('buy_game', 17.638, 193, 48),\n",
       " ('one_favorite', 17.413, 77, 0),\n",
       " ('th_loading', 17.325, 9, 9),\n",
       " ('well_worth', 16.692, 104, 1),\n",
       " ('save_money', 16.57, 30, 15),\n",
       " ('boring_game', 15.841, 20, 12),\n",
       " ('top_spin', 15.4, 8, 8),\n",
       " ('grand_theftouto', 15.4, 8, 8),\n",
       " ('game_crashes', 15.28, 14, 10),\n",
       " ('customer_support', 15.205, 11, 9),\n",
       " ('one_worst', 14.761, 18, 11),\n",
       " ('install_game', 14.761, 18, 11),\n",
       " ('mega_man', 13.795, 61, 0),\n",
       " ('gamepad_tablet', 13.475, 7, 7),\n",
       " ('water_damage', 13.475, 7, 7),\n",
       " ('customer_service', 13.385, 20, 11),\n",
       " ('voice_acting', 13.035, 199, 8),\n",
       " ('piece_junk', 12.382, 8, 7),\n",
       " ('bethesda_softworks', 12.382, 8, 7),\n",
       " ('boring_repetitive', 12.382, 8, 7),\n",
       " ('looks_like', 12.297, 104, 28),\n",
       " ('lot_fun', 12.279, 180, 7),\n",
       " ('take_time', 12.212, 54, 0),\n",
       " ('along_way', 12.212, 54, 0),\n",
       " ('main_quest', 12.211, 30, 13),\n",
       " ('auction_house', 12.152, 22, 11),\n",
       " ('great_fun', 11.986, 53, 0),\n",
       " ('money_game', 11.88, 15, 9),\n",
       " ('game_sucks', 11.88, 15, 9),\n",
       " ('awesome_game', 11.585, 79, 1),\n",
       " ('never_buy', 11.565, 12, 8),\n",
       " ('school_crpg', 11.55, 6, 6),\n",
       " ('big_rigs', 11.55, 6, 6),\n",
       " ('red_brick', 11.55, 6, 6),\n",
       " ('arena_daggerfall', 11.55, 6, 6),\n",
       " ('high_setting', 11.55, 6, 6),\n",
       " ('get_passed', 11.406, 9, 7),\n",
       " ('money_back', 11.406, 9, 7),\n",
       " ('many_problems', 11.406, 9, 7),\n",
       " ('much_fun', 11.236, 159, 6),\n",
       " ('game_buy', 11.139, 46, 16),\n",
       " ('great_product', 10.984, 76, 1),\n",
       " ('bought_game', 10.887, 127, 31),\n",
       " ('move_controllers', 10.802, 13, 8),\n",
       " ('play_game', 10.67, 334, 64),\n",
       " ('release_game', 10.546, 17, 9),\n",
       " ('real_money', 10.527, 10, 7),\n",
       " ('send_back', 10.527, 10, 7),\n",
       " ('play_offline', 10.467, 7, 6),\n",
       " ('action_point', 10.467, 7, 6),\n",
       " ('money_something', 10.467, 7, 6),\n",
       " ('kids_love', 10.403, 46, 0),\n",
       " ('game_amazing', 10.403, 46, 0),\n",
       " ('easy_use', 9.95, 44, 0),\n",
       " ('stay_away', 9.94, 22, 10),\n",
       " ('day_one', 9.94, 22, 10),\n",
       " ('best_games', 9.912, 106, 3),\n",
       " ('ca_even', 9.768, 45, 15),\n",
       " ('works_well', 9.742, 105, 3),\n",
       " ('work_since', 9.625, 5, 5),\n",
       " ('lag_lag', 9.625, 5, 5),\n",
       " ('graphics_terrible', 9.625, 5, 5),\n",
       " ('turn_aging', 9.625, 5, 5),\n",
       " ('coded_arms', 9.625, 5, 5),\n",
       " ('loading_e', 9.625, 5, 5),\n",
       " ('would_work', 9.565, 27, 11),\n",
       " ('take_money', 9.517, 8, 6),\n",
       " ('like_oblivion', 9.517, 8, 6),\n",
       " ('open_map', 9.517, 8, 6),\n",
       " ('suit_larry', 9.517, 8, 6),\n",
       " ('leisure_suit', 9.517, 8, 6),\n",
       " ('metal_gear', 9.404, 103, 3),\n",
       " ('special_edition', 9.331, 32, 12),\n",
       " ('lots_fun', 9.272, 41, 0),\n",
       " ('every_single', 9.201, 62, 18),\n",
       " ('great_price', 9.199, 67, 1),\n",
       " ('ca_get', 9.092, 47, 15),\n",
       " ('highly_recommended', 9.002, 66, 1),\n",
       " ('ca_play', 8.948, 24, 10),\n",
       " ('would_rather', 8.948, 24, 10),\n",
       " ('little_bit', 8.9, 100, 3),\n",
       " ('work_properly', 8.674, 9, 6),\n",
       " ('really_hate', 8.674, 9, 6),\n",
       " ('full_refund', 8.556, 6, 5),\n",
       " ('several_things', 8.556, 6, 5),\n",
       " ('playing_street', 8.556, 6, 5),\n",
       " ('onto_computer', 8.556, 6, 5),\n",
       " ('character_creation', 8.49, 25, 10),\n",
       " ('way_play', 8.49, 25, 10),\n",
       " ('looks_great', 8.416, 63, 1),\n",
       " ('even_better', 8.406, 81, 2),\n",
       " ('hand_hand', 8.367, 37, 0),\n",
       " ('game_horrible', 8.342, 13, 7),\n",
       " ('hardcore_gamer', 8.273, 17, 8),\n",
       " ('controls_game', 8.273, 17, 8),\n",
       " ('even_worse', 8.273, 17, 8),\n",
       " ('game_boring', 8.273, 17, 8),\n",
       " ('stopped_working', 8.273, 17, 8),\n",
       " ('one_star', 8.171, 35, 12),\n",
       " ('buying_game', 8.153, 50, 15),\n",
       " ('twilight_princess', 8.141, 36, 0),\n",
       " ('makes_feel', 8.141, 36, 0),\n",
       " ('game_completely', 8.054, 26, 10),\n",
       " ('horrible_game', 7.92, 10, 6),\n",
       " ('great_gameplay', 7.915, 35, 0),\n",
       " ('dead_island', 7.867, 22, 9),\n",
       " ('buy_another', 7.867, 22, 9),\n",
       " ('absolutely_nothing', 7.733, 14, 7),\n",
       " ('game_would', 7.707, 169, 35),\n",
       " ('get_replacement', 7.7, 4, 4),\n",
       " ('give_thoughts', 7.7, 4, 4),\n",
       " ('using_action', 7.7, 4, 4),\n",
       " ('things_environment', 7.7, 4, 4),\n",
       " ('classic_fallout', 7.7, 4, 4),\n",
       " ('time_waste', 7.7, 4, 4),\n",
       " ('better_bethesda', 7.7, 4, 4),\n",
       " ('reason_pay', 7.7, 4, 4),\n",
       " ('work_wo', 7.7, 4, 4),\n",
       " ('back_since', 7.7, 4, 4),\n",
       " ('ax_pro', 7.7, 4, 4),\n",
       " ('well_high', 7.7, 4, 4),\n",
       " ('forever_get', 7.7, 4, 4),\n",
       " ('cumul_score', 7.7, 4, 4),\n",
       " ('next_point', 7.7, 4, 4),\n",
       " ('unless_pay', 7.7, 4, 4),\n",
       " ('hard_lines', 7.7, 4, 4),\n",
       " ('sd_slot', 7.7, 4, 4),\n",
       " ('passion_genre', 7.7, 4, 4),\n",
       " ('tes_construction', 7.7, 4, 4),\n",
       " ('extras_extra', 7.7, 4, 4),\n",
       " ('brick_extras', 7.7, 4, 4),\n",
       " ('fans_oblivion', 7.7, 4, 4),\n",
       " ('learned_lesson', 7.7, 4, 4),\n",
       " ('quality_poor', 7.7, 4, 4),\n",
       " ('gameplay_slow', 7.7, 4, 4),\n",
       " ('installation_limit', 7.7, 4, 4),\n",
       " ('defective_unit', 7.7, 4, 4)]"
      ]
     },
     "execution_count": 58,
     "metadata": {},
     "output_type": "execute_result"
    }
   ],
   "source": [
    "negative_keys"
   ]
  },
  {
   "cell_type": "code",
   "execution_count": 70,
   "metadata": {},
   "outputs": [],
   "source": [
    "from collections import Counter\n",
    "def frequency_base(bigram_list):\n",
    "    re = []\n",
    "    for li in bigram_list:\n",
    "        re.extend(li)\n",
    "    count = Counter(re)\n",
    "    return count.most_common()[:15]"
   ]
  },
  {
   "cell_type": "code",
   "execution_count": 72,
   "metadata": {},
   "outputs": [
    {
     "data": {
      "text/plain": [
       "[('game_play', 65),\n",
       " ('play_game', 64),\n",
       " ('playing_game', 50),\n",
       " ('buy_game', 48),\n",
       " ('wii_u', 37),\n",
       " ('video_game', 35),\n",
       " ('game_like', 35),\n",
       " ('game_would', 35),\n",
       " ('great_game', 34),\n",
       " ('game_ever', 32),\n",
       " ('pretty_much', 32),\n",
       " ('bought_game', 31),\n",
       " ('like_game', 31),\n",
       " ('good_game', 30),\n",
       " ('xbox_one', 30)]"
      ]
     },
     "execution_count": 72,
     "metadata": {},
     "output_type": "execute_result"
    }
   ],
   "source": [
    "frequency_base(negative_bigrams)\n",
    "\n",
    "# the importance here is that we still need the keyness to determine the importance of each word.\n",
    "# if we just look at the most frequent bigrams in negative data, we can't find insight easily\n"
   ]
  },
  {
   "cell_type": "code",
   "execution_count": 39,
   "metadata": {},
   "outputs": [],
   "source": [
    "pos = pd.DataFrame(positive_keys, columns =['Bigram', 'Loglikelihood', 'Frequency', 'Frequency in Sent'])\n",
    "pos['Sent'] = 'Positive' \n",
    "\n",
    "neutral = pd.DataFrame(neutral_keys, columns =['Bigram', 'Loglikelihood', 'Frequency', 'Frequency in Sent'])\n",
    "neutral['Sent'] = 'Neutral'\n",
    "\n",
    "neg = pd.DataFrame(negative_keys, columns =['Bigram', 'Loglikelihood', 'Frequency', 'Frequency in Sent'])\n",
    "neg['Sent'] = 'Negative'\n",
    "\n",
    "key_data = pd.concat([pos, neutral, neg])\n"
   ]
  },
  {
   "cell_type": "code",
   "execution_count": 43,
   "metadata": {},
   "outputs": [],
   "source": [
    "with open(\"final_result/key.tsv\", \"w\") as outfile:\n",
    "    outfile.write(key_data.to_csv(index=False, sep=\"\\t\"))"
   ]
  },
  {
   "cell_type": "code",
   "execution_count": 4,
   "metadata": {},
   "outputs": [],
   "source": [
    "key_data = pd.read_table('final_result/key.tsv')"
   ]
  },
  {
   "cell_type": "code",
   "execution_count": 41,
   "metadata": {},
   "outputs": [
    {
     "data": {
      "text/html": [
       "\n",
       "<div id=\"altair-viz-3b18474a679a4b318c59a9a938f5e43c\"></div>\n",
       "<script type=\"text/javascript\">\n",
       "  (function(spec, embedOpt){\n",
       "    let outputDiv = document.currentScript.previousElementSibling;\n",
       "    if (outputDiv.id !== \"altair-viz-3b18474a679a4b318c59a9a938f5e43c\") {\n",
       "      outputDiv = document.getElementById(\"altair-viz-3b18474a679a4b318c59a9a938f5e43c\");\n",
       "    }\n",
       "    const paths = {\n",
       "      \"vega\": \"https://cdn.jsdelivr.net/npm//vega@5?noext\",\n",
       "      \"vega-lib\": \"https://cdn.jsdelivr.net/npm//vega-lib?noext\",\n",
       "      \"vega-lite\": \"https://cdn.jsdelivr.net/npm//vega-lite@4.8.1?noext\",\n",
       "      \"vega-embed\": \"https://cdn.jsdelivr.net/npm//vega-embed@6?noext\",\n",
       "    };\n",
       "\n",
       "    function loadScript(lib) {\n",
       "      return new Promise(function(resolve, reject) {\n",
       "        var s = document.createElement('script');\n",
       "        s.src = paths[lib];\n",
       "        s.async = true;\n",
       "        s.onload = () => resolve(paths[lib]);\n",
       "        s.onerror = () => reject(`Error loading script: ${paths[lib]}`);\n",
       "        document.getElementsByTagName(\"head\")[0].appendChild(s);\n",
       "      });\n",
       "    }\n",
       "\n",
       "    function showError(err) {\n",
       "      outputDiv.innerHTML = `<div class=\"error\" style=\"color:red;\">${err}</div>`;\n",
       "      throw err;\n",
       "    }\n",
       "\n",
       "    function displayChart(vegaEmbed) {\n",
       "      vegaEmbed(outputDiv, spec, embedOpt)\n",
       "        .catch(err => showError(`Javascript Error: ${err.message}<br>This usually means there's a typo in your chart specification. See the javascript console for the full traceback.`));\n",
       "    }\n",
       "\n",
       "    if(typeof define === \"function\" && define.amd) {\n",
       "      requirejs.config({paths});\n",
       "      require([\"vega-embed\"], displayChart, err => showError(`Error loading script: ${err.message}`));\n",
       "    } else if (typeof vegaEmbed === \"function\") {\n",
       "      displayChart(vegaEmbed);\n",
       "    } else {\n",
       "      loadScript(\"vega\")\n",
       "        .then(() => loadScript(\"vega-lite\"))\n",
       "        .then(() => loadScript(\"vega-embed\"))\n",
       "        .catch(showError)\n",
       "        .then(() => displayChart(vegaEmbed));\n",
       "    }\n",
       "  })({\"config\": {\"view\": {\"continuousWidth\": 400, \"continuousHeight\": 300}}, \"data\": {\"name\": \"data-8d57b283cd7b6891674b6f7be283340d\"}, \"mark\": {\"type\": \"circle\", \"size\": 60}, \"encoding\": {\"color\": {\"type\": \"nominal\", \"field\": \"Sent\"}, \"tooltip\": [{\"type\": \"nominal\", \"field\": \"Bigram\"}, {\"type\": \"quantitative\", \"field\": \"Loglikelihood\"}, {\"type\": \"quantitative\", \"field\": \"Frequency\"}, {\"type\": \"quantitative\", \"field\": \"Frequency in Sent\"}], \"x\": {\"type\": \"quantitative\", \"field\": \"Loglikelihood\"}, \"y\": {\"type\": \"quantitative\", \"field\": \"Frequency in Sent\"}}, \"selection\": {\"selector002\": {\"type\": \"interval\", \"bind\": \"scales\", \"encodings\": [\"x\", \"y\"]}}, \"$schema\": \"https://vega.github.io/schema/vega-lite/v4.8.1.json\", \"datasets\": {\"data-8d57b283cd7b6891674b6f7be283340d\": [{\"Bigram\": \"great_game\", \"Loglikelihood\": 128.969, \"Frequency\": 595, \"Frequency in Sent\": 326, \"Sent\": \"Positive\"}, {\"Bigram\": \"one_best\", \"Loglikelihood\": 91.34, \"Frequency\": 290, \"Frequency in Sent\": 181, \"Sent\": \"Positive\"}, {\"Bigram\": \"love_game\", \"Loglikelihood\": 89.392, \"Frequency\": 286, \"Frequency in Sent\": 178, \"Sent\": \"Positive\"}, {\"Bigram\": \"works_great\", \"Loglikelihood\": 70.189, \"Frequency\": 154, \"Frequency in Sent\": 111, \"Sent\": \"Positive\"}, {\"Bigram\": \"best_games\", \"Loglikelihood\": 47.693, \"Frequency\": 106, \"Frequency in Sent\": 76, \"Sent\": \"Positive\"}, {\"Bigram\": \"great_product\", \"Loglikelihood\": 46.282, \"Frequency\": 76, \"Frequency in Sent\": 62, \"Sent\": \"Positive\"}, {\"Bigram\": \"great_price\", \"Loglikelihood\": 38.043, \"Frequency\": 67, \"Frequency in Sent\": 53, \"Sent\": \"Positive\"}, {\"Bigram\": \"excellent_product\", \"Loglikelihood\": 35.748, \"Frequency\": 44, \"Frequency in Sent\": 41, \"Sent\": \"Positive\"}, {\"Bigram\": \"highly_recommend\", \"Loglikelihood\": 34.565, \"Frequency\": 137, \"Frequency in Sent\": 79, \"Sent\": \"Positive\"}, {\"Bigram\": \"best_game\", \"Loglikelihood\": 28.144, \"Frequency\": 116, \"Frequency in Sent\": 66, \"Sent\": \"Positive\"}, {\"Bigram\": \"metal_gear\", \"Loglikelihood\": 28.052, \"Frequency\": 103, \"Frequency in Sent\": 61, \"Sent\": \"Positive\"}, {\"Bigram\": \"highly_recommended\", \"Loglikelihood\": 27.691, \"Frequency\": 66, \"Frequency in Sent\": 46, \"Sent\": \"Positive\"}, {\"Bigram\": \"game_great\", \"Loglikelihood\": 27.646, \"Frequency\": 237, \"Frequency in Sent\": 108, \"Sent\": \"Positive\"}, {\"Bigram\": \"awesome_game\", \"Loglikelihood\": 27.234, \"Frequency\": 79, \"Frequency in Sent\": 51, \"Sent\": \"Positive\"}, {\"Bigram\": \"kids_love\", \"Loglikelihood\": 27.132, \"Frequency\": 46, \"Frequency in Sent\": 37, \"Sent\": \"Positive\"}, {\"Bigram\": \"games_ever\", \"Loglikelihood\": 26.737, \"Frequency\": 111, \"Frequency in Sent\": 63, \"Sent\": \"Positive\"}, {\"Bigram\": \"ever_played\", \"Loglikelihood\": 26.167, \"Frequency\": 148, \"Frequency in Sent\": 76, \"Sent\": \"Positive\"}, {\"Bigram\": \"man_sky\", \"Loglikelihood\": 24.422, \"Frequency\": 28, \"Frequency in Sent\": 27, \"Sent\": \"Positive\"}, {\"Bigram\": \"fast_shipping\", \"Loglikelihood\": 23.675, \"Frequency\": 33, \"Frequency in Sent\": 29, \"Sent\": \"Positive\"}, {\"Bigram\": \"one_favorite\", \"Loglikelihood\": 22.819, \"Frequency\": 77, \"Frequency in Sent\": 47, \"Sent\": \"Positive\"}, {\"Bigram\": \"good_product\", \"Loglikelihood\": 22.571, \"Frequency\": 41, \"Frequency in Sent\": 32, \"Sent\": \"Positive\"}, {\"Bigram\": \"must_buy\", \"Loglikelihood\": 21.965, \"Frequency\": 56, \"Frequency in Sent\": 38, \"Sent\": \"Positive\"}, {\"Bigram\": \"gear_solid\", \"Loglikelihood\": 19.936, \"Frequency\": 57, \"Frequency in Sent\": 37, \"Sent\": \"Positive\"}, {\"Bigram\": \"game_ever\", \"Loglikelihood\": 19.707, \"Frequency\": 178, \"Frequency in Sent\": 80, \"Sent\": \"Positive\"}, {\"Bigram\": \"well_worth\", \"Loglikelihood\": 19.057, \"Frequency\": 104, \"Frequency in Sent\": 54, \"Sent\": \"Positive\"}, {\"Bigram\": \"much_fun\", \"Loglikelihood\": 18.113, \"Frequency\": 159, \"Frequency in Sent\": 72, \"Sent\": \"Positive\"}, {\"Bigram\": \"works_perfectly\", \"Loglikelihood\": 17.376, \"Frequency\": 37, \"Frequency in Sent\": 27, \"Sent\": \"Positive\"}, {\"Bigram\": \"best_best\", \"Loglikelihood\": 17.176, \"Frequency\": 26, \"Frequency in Sent\": 22, \"Sent\": \"Positive\"}, {\"Bigram\": \"great_item\", \"Loglikelihood\": 16.969, \"Frequency\": 22, \"Frequency in Sent\": 20, \"Sent\": \"Positive\"}, {\"Bigram\": \"video_games\", \"Loglikelihood\": 16.85, \"Frequency\": 154, \"Frequency in Sent\": 69, \"Sent\": \"Positive\"}, {\"Bigram\": \"kinect_sports\", \"Loglikelihood\": 16.251, \"Frequency\": 25, \"Frequency in Sent\": 21, \"Sent\": \"Positive\"}, {\"Bigram\": \"loves_game\", \"Loglikelihood\": 15.603, \"Frequency\": 35, \"Frequency in Sent\": 25, \"Sent\": \"Positive\"}, {\"Bigram\": \"great_fun\", \"Loglikelihood\": 15.239, \"Frequency\": 53, \"Frequency in Sent\": 32, \"Sent\": \"Positive\"}, {\"Bigram\": \"mega_man\", \"Loglikelihood\": 15.169, \"Frequency\": 61, \"Frequency in Sent\": 35, \"Sent\": \"Positive\"}, {\"Bigram\": \"favorite_games\", \"Loglikelihood\": 15.163, \"Frequency\": 43, \"Frequency in Sent\": 28, \"Sent\": \"Positive\"}, {\"Bigram\": \"son_loves\", \"Loglikelihood\": 15.163, \"Frequency\": 43, \"Frequency in Sent\": 28, \"Sent\": \"Positive\"}, {\"Bigram\": \"thank_much\", \"Loglikelihood\": 15.04, \"Frequency\": 18, \"Frequency in Sent\": 17, \"Sent\": \"Positive\"}, {\"Bigram\": \"great_addition\", \"Loglikelihood\": 14.356, \"Frequency\": 37, \"Frequency in Sent\": 25, \"Sent\": \"Positive\"}, {\"Bigram\": \"sports_season\", \"Loglikelihood\": 14.088, \"Frequency\": 15, \"Frequency in Sent\": 15, \"Sent\": \"Positive\"}, {\"Bigram\": \"season_two\", \"Loglikelihood\": 14.088, \"Frequency\": 15, \"Frequency in Sent\": 15, \"Sent\": \"Positive\"}, {\"Bigram\": \"happy_purchase\", \"Loglikelihood\": 14.041, \"Frequency\": 28, \"Frequency in Sent\": 21, \"Sent\": \"Positive\"}, {\"Bigram\": \"amazing_game\", \"Loglikelihood\": 13.76, \"Frequency\": 56, \"Frequency in Sent\": 32, \"Sent\": \"Positive\"}, {\"Bigram\": \"great_buy\", \"Loglikelihood\": 13.495, \"Frequency\": 36, \"Frequency in Sent\": 24, \"Sent\": \"Positive\"}, {\"Bigram\": \"loved_game\", \"Loglikelihood\": 13.449, \"Frequency\": 54, \"Frequency in Sent\": 31, \"Sent\": \"Positive\"}, {\"Bigram\": \"greatest_video\", \"Loglikelihood\": 13.235, \"Frequency\": 18, \"Frequency in Sent\": 16, \"Sent\": \"Positive\"}, {\"Bigram\": \"decent_game\", \"Loglikelihood\": 12.934, \"Frequency\": 30, \"Frequency in Sent\": 0, \"Sent\": \"Positive\"}, {\"Bigram\": \"felt_like\", \"Loglikelihood\": 12.881, \"Frequency\": 102, \"Frequency in Sent\": 8, \"Sent\": \"Positive\"}, {\"Bigram\": \"love_playing\", \"Loglikelihood\": 12.482, \"Frequency\": 28, \"Frequency in Sent\": 20, \"Sent\": \"Positive\"}, {\"Bigram\": \"son_loved\", \"Loglikelihood\": 12.419, \"Frequency\": 19, \"Frequency in Sent\": 16, \"Sent\": \"Positive\"}, {\"Bigram\": \"wii_fit\", \"Loglikelihood\": 12.352, \"Frequency\": 51, \"Frequency in Sent\": 29, \"Sent\": \"Positive\"}, {\"Bigram\": \"game_awesome\", \"Loglikelihood\": 12.079, \"Frequency\": 57, \"Frequency in Sent\": 31, \"Sent\": \"Positive\"}, {\"Bigram\": \"paper_mario\", \"Loglikelihood\": 12.073, \"Frequency\": 36, \"Frequency in Sent\": 23, \"Sent\": \"Positive\"}, {\"Bigram\": \"great_gift\", \"Loglikelihood\": 11.496, \"Frequency\": 18, \"Frequency in Sent\": 15, \"Sent\": \"Positive\"}, {\"Bigram\": \"tales_xillia\", \"Loglikelihood\": 11.271, \"Frequency\": 12, \"Frequency in Sent\": 12, \"Sent\": \"Positive\"}, {\"Bigram\": \"witcher_ii\", \"Loglikelihood\": 11.271, \"Frequency\": 12, \"Frequency in Sent\": 12, \"Sent\": \"Positive\"}, {\"Bigram\": \"total_war\", \"Loglikelihood\": 11.209, \"Frequency\": 26, \"Frequency in Sent\": 0, \"Sent\": \"Positive\"}, {\"Bigram\": \"pc_version\", \"Loglikelihood\": 10.924, \"Frequency\": 58, \"Frequency in Sent\": 3, \"Sent\": \"Positive\"}, {\"Bigram\": \"lots_fun\", \"Loglikelihood\": 10.802, \"Frequency\": 41, \"Frequency in Sent\": 24, \"Sent\": \"Positive\"}, {\"Bigram\": \"game_mechanics\", \"Loglikelihood\": 10.778, \"Frequency\": 25, \"Frequency in Sent\": 0, \"Sent\": \"Positive\"}, {\"Bigram\": \"fast_delivery\", \"Loglikelihood\": 10.574, \"Frequency\": 17, \"Frequency in Sent\": 14, \"Sent\": \"Positive\"}, {\"Bigram\": \"perfect_condition\", \"Loglikelihood\": 10.442, \"Frequency\": 15, \"Frequency in Sent\": 13, \"Sent\": \"Positive\"}, {\"Bigram\": \"good_condition\", \"Loglikelihood\": 10.392, \"Frequency\": 29, \"Frequency in Sent\": 19, \"Sent\": \"Positive\"}, {\"Bigram\": \"game_played\", \"Loglikelihood\": 10.371, \"Frequency\": 121, \"Frequency in Sent\": 51, \"Sent\": \"Positive\"}, {\"Bigram\": \"product_described\", \"Loglikelihood\": 10.355, \"Frequency\": 13, \"Frequency in Sent\": 12, \"Sent\": \"Positive\"}, {\"Bigram\": \"weapons_armor\", \"Loglikelihood\": 10.347, \"Frequency\": 24, \"Frequency in Sent\": 0, \"Sent\": \"Positive\"}, {\"Bigram\": \"game_requires\", \"Loglikelihood\": 10.347, \"Frequency\": 24, \"Frequency in Sent\": 0, \"Sent\": \"Positive\"}, {\"Bigram\": \"universe_true\", \"Loglikelihood\": 10.331, \"Frequency\": 11, \"Frequency in Sent\": 11, \"Sent\": \"Positive\"}, {\"Bigram\": \"game_one\", \"Loglikelihood\": 10.265, \"Frequency\": 166, \"Frequency in Sent\": 65, \"Sent\": \"Positive\"}, {\"Bigram\": \"well_made\", \"Loglikelihood\": 10.262, \"Frequency\": 53, \"Frequency in Sent\": 28, \"Sent\": \"Positive\"}, {\"Bigram\": \"graphics_amazing\", \"Loglikelihood\": 10.122, \"Frequency\": 27, \"Frequency in Sent\": 18, \"Sent\": \"Positive\"}, {\"Bigram\": \"fantastic_game\", \"Loglikelihood\": 10.009, \"Frequency\": 40, \"Frequency in Sent\": 23, \"Sent\": \"Positive\"}, {\"Bigram\": \"even_game\", \"Loglikelihood\": 9.916, \"Frequency\": 23, \"Frequency in Sent\": 0, \"Sent\": \"Positive\"}, {\"Bigram\": \"guild_wars\", \"Loglikelihood\": 9.916, \"Frequency\": 23, \"Frequency in Sent\": 0, \"Sent\": \"Positive\"}, {\"Bigram\": \"xbox_one\", \"Loglikelihood\": 9.798, \"Frequency\": 201, \"Frequency in Sent\": 75, \"Sent\": \"Positive\"}, {\"Bigram\": \"fun_love\", \"Loglikelihood\": 9.655, \"Frequency\": 16, \"Frequency in Sent\": 13, \"Sent\": \"Positive\"}, {\"Bigram\": \"great_value\", \"Loglikelihood\": 9.655, \"Frequency\": 16, \"Frequency in Sent\": 13, \"Sent\": \"Positive\"}, {\"Bigram\": \"mario_kart\", \"Loglikelihood\": 9.615, \"Frequency\": 102, \"Frequency in Sent\": 44, \"Sent\": \"Positive\"}, {\"Bigram\": \"arrived_time\", \"Loglikelihood\": 9.546, \"Frequency\": 28, \"Frequency in Sent\": 18, \"Sent\": \"Positive\"}, {\"Bigram\": \"worst_game\", \"Loglikelihood\": 9.485, \"Frequency\": 22, \"Frequency in Sent\": 0, \"Sent\": \"Positive\"}, {\"Bigram\": \"sounds_like\", \"Loglikelihood\": 9.421, \"Frequency\": 45, \"Frequency in Sent\": 2, \"Sent\": \"Positive\"}, {\"Bigram\": \"ca_even\", \"Loglikelihood\": 9.421, \"Frequency\": 45, \"Frequency in Sent\": 2, \"Sent\": \"Positive\"}, {\"Bigram\": \"super_paper\", \"Loglikelihood\": 9.392, \"Frequency\": 10, \"Frequency in Sent\": 10, \"Sent\": \"Positive\"}, {\"Bigram\": \"year_old\", \"Loglikelihood\": 9.332, \"Frequency\": 103, \"Frequency in Sent\": 44, \"Sent\": \"Positive\"}, {\"Bigram\": \"great_sound\", \"Loglikelihood\": 9.268, \"Frequency\": 26, \"Frequency in Sent\": 17, \"Sent\": \"Positive\"}, {\"Bigram\": \"great_way\", \"Loglikelihood\": 9.268, \"Frequency\": 26, \"Frequency in Sent\": 17, \"Sent\": \"Positive\"}, {\"Bigram\": \"plays_great\", \"Loglikelihood\": 9.134, \"Frequency\": 19, \"Frequency in Sent\": 14, \"Sent\": \"Positive\"}, {\"Bigram\": \"works_like\", \"Loglikelihood\": 9.083, \"Frequency\": 34, \"Frequency in Sent\": 20, \"Sent\": \"Positive\"}, {\"Bigram\": \"good_bad\", \"Loglikelihood\": 8.857, \"Frequency\": 34, \"Frequency in Sent\": 1, \"Sent\": \"Positive\"}, {\"Bigram\": \"favorite_game\", \"Loglikelihood\": 8.772, \"Frequency\": 40, \"Frequency in Sent\": 22, \"Sent\": \"Positive\"}, {\"Bigram\": \"yr_old\", \"Loglikelihood\": 8.739, \"Frequency\": 15, \"Frequency in Sent\": 12, \"Sent\": \"Positive\"}, {\"Bigram\": \"like_charm\", \"Loglikelihood\": 8.739, \"Frequency\": 15, \"Frequency in Sent\": 12, \"Sent\": \"Positive\"}, {\"Bigram\": \"fits_perfectly\", \"Loglikelihood\": 8.739, \"Frequency\": 15, \"Frequency in Sent\": 12, \"Sent\": \"Positive\"}, {\"Bigram\": \"still_love\", \"Loglikelihood\": 8.739, \"Frequency\": 15, \"Frequency in Sent\": 12, \"Sent\": \"Positive\"}, {\"Bigram\": \"fun_addicting\", \"Loglikelihood\": 8.739, \"Frequency\": 15, \"Frequency in Sent\": 12, \"Sent\": \"Positive\"}, {\"Bigram\": \"takes_away\", \"Loglikelihood\": 8.623, \"Frequency\": 20, \"Frequency in Sent\": 0, \"Sent\": \"Positive\"}, {\"Bigram\": \"pretty_bad\", \"Loglikelihood\": 8.623, \"Frequency\": 20, \"Frequency in Sent\": 0, \"Sent\": \"Positive\"}, {\"Bigram\": \"seems_like\", \"Loglikelihood\": 8.602, \"Frequency\": 86, \"Frequency in Sent\": 8, \"Sent\": \"Positive\"}, {\"Bigram\": \"dance_pad\", \"Loglikelihood\": 8.588, \"Frequency\": 13, \"Frequency in Sent\": 11, \"Sent\": \"Positive\"}, {\"Bigram\": \"product_great\", \"Loglikelihood\": 8.588, \"Frequency\": 13, \"Frequency in Sent\": 11, \"Sent\": \"Positive\"}, {\"Bigram\": \"game_amazing\", \"Loglikelihood\": 8.56, \"Frequency\": 46, \"Frequency in Sent\": 24, \"Sent\": \"Positive\"}, {\"Bigram\": \"problem_game\", \"Loglikelihood\": 8.485, \"Frequency\": 33, \"Frequency in Sent\": 1, \"Sent\": \"Positive\"}, {\"Bigram\": \"simulation_game\", \"Loglikelihood\": 8.485, \"Frequency\": 11, \"Frequency in Sent\": 10, \"Sent\": \"Positive\"}, {\"Bigram\": \"game_love\", \"Loglikelihood\": 8.483, \"Frequency\": 49, \"Frequency in Sent\": 25, \"Sent\": \"Positive\"}, {\"Bigram\": \"absolutely_love\", \"Loglikelihood\": 8.476, \"Frequency\": 30, \"Frequency in Sent\": 18, \"Sent\": \"Positive\"}, {\"Bigram\": \"portable_ops\", \"Loglikelihood\": 8.453, \"Frequency\": 9, \"Frequency in Sent\": 9, \"Sent\": \"Positive\"}, {\"Bigram\": \"easy_install\", \"Loglikelihood\": 8.453, \"Frequency\": 9, \"Frequency in Sent\": 9, \"Sent\": \"Positive\"}, {\"Bigram\": \"grandson_loves\", \"Loglikelihood\": 8.453, \"Frequency\": 9, \"Frequency in Sent\": 9, \"Sent\": \"Positive\"}, {\"Bigram\": \"issues_game\", \"Loglikelihood\": 8.192, \"Frequency\": 19, \"Frequency in Sent\": 0, \"Sent\": \"Positive\"}, {\"Bigram\": \"nowhere_near\", \"Loglikelihood\": 8.192, \"Frequency\": 19, \"Frequency in Sent\": 0, \"Sent\": \"Positive\"}, {\"Bigram\": \"arkham_city\", \"Loglikelihood\": 8.192, \"Frequency\": 19, \"Frequency in Sent\": 0, \"Sent\": \"Positive\"}, {\"Bigram\": \"wo_regret\", \"Loglikelihood\": 8.144, \"Frequency\": 23, \"Frequency in Sent\": 15, \"Sent\": \"Positive\"}, {\"Bigram\": \"went_back\", \"Loglikelihood\": 8.115, \"Frequency\": 32, \"Frequency in Sent\": 1, \"Sent\": \"Positive\"}, {\"Bigram\": \"game_nothing\", \"Loglikelihood\": 8.06, \"Frequency\": 41, \"Frequency in Sent\": 2, \"Sent\": \"Positive\"}, {\"Bigram\": \"works_perfect\", \"Loglikelihood\": 7.827, \"Frequency\": 14, \"Frequency in Sent\": 11, \"Sent\": \"Positive\"}, {\"Bigram\": \"find_way\", \"Loglikelihood\": 7.76, \"Frequency\": 18, \"Frequency in Sent\": 0, \"Sent\": \"Positive\"}, {\"Bigram\": \"get_hit\", \"Loglikelihood\": 7.76, \"Frequency\": 18, \"Frequency in Sent\": 0, \"Sent\": \"Positive\"}, {\"Bigram\": \"play_much\", \"Loglikelihood\": 7.76, \"Frequency\": 18, \"Frequency in Sent\": 0, \"Sent\": \"Positive\"}, {\"Bigram\": \"one_worst\", \"Loglikelihood\": 7.76, \"Frequency\": 18, \"Frequency in Sent\": 0, \"Sent\": \"Positive\"}, {\"Bigram\": \"decent_graphics\", \"Loglikelihood\": 7.76, \"Frequency\": 18, \"Frequency in Sent\": 0, \"Sent\": \"Positive\"}, {\"Bigram\": \"play_sets\", \"Loglikelihood\": 7.76, \"Frequency\": 18, \"Frequency in Sent\": 0, \"Sent\": \"Positive\"}, {\"Bigram\": \"biggest_complaint\", \"Loglikelihood\": 7.76, \"Frequency\": 18, \"Frequency in Sent\": 0, \"Sent\": \"Positive\"}, {\"Bigram\": \"game_took\", \"Loglikelihood\": 7.746, \"Frequency\": 31, \"Frequency in Sent\": 1, \"Sent\": \"Positive\"}, {\"Bigram\": \"nintendo_ds\", \"Loglikelihood\": 7.723, \"Frequency\": 51, \"Frequency in Sent\": 25, \"Sent\": \"Positive\"}, {\"Bigram\": \"even_better\", \"Loglikelihood\": 7.687, \"Frequency\": 81, \"Frequency in Sent\": 35, \"Sent\": \"Positive\"}, {\"Bigram\": \"great_purchase\", \"Loglikelihood\": 7.664, \"Frequency\": 12, \"Frequency in Sent\": 10, \"Sent\": \"Positive\"}, {\"Bigram\": \"exactly_wanted\", \"Loglikelihood\": 7.664, \"Frequency\": 12, \"Frequency in Sent\": 10, \"Sent\": \"Positive\"}, {\"Bigram\": \"limited_edition\", \"Loglikelihood\": 7.587, \"Frequency\": 24, \"Frequency in Sent\": 15, \"Sent\": \"Positive\"}, {\"Bigram\": \"love_great\", \"Loglikelihood\": 7.55, \"Frequency\": 10, \"Frequency in Sent\": 9, \"Sent\": \"Positive\"}, {\"Bigram\": \"smash_game\", \"Loglikelihood\": 7.55, \"Frequency\": 10, \"Frequency in Sent\": 9, \"Sent\": \"Positive\"}, {\"Bigram\": \"driving_simulation\", \"Loglikelihood\": 7.55, \"Frequency\": 10, \"Frequency in Sent\": 9, \"Sent\": \"Positive\"}, {\"Bigram\": \"hotel_dusk\", \"Loglikelihood\": 7.514, \"Frequency\": 8, \"Frequency in Sent\": 8, \"Sent\": \"Positive\"}, {\"Bigram\": \"ed_driving\", \"Loglikelihood\": 7.514, \"Frequency\": 8, \"Frequency in Sent\": 8, \"Sent\": \"Positive\"}, {\"Bigram\": \"beginner_drivers\", \"Loglikelihood\": 7.514, \"Frequency\": 8, \"Frequency in Sent\": 8, \"Sent\": \"Positive\"}, {\"Bigram\": \"simuride_home\", \"Loglikelihood\": 7.514, \"Frequency\": 8, \"Frequency in Sent\": 8, \"Sent\": \"Positive\"}, {\"Bigram\": \"home_ed\", \"Loglikelihood\": 7.514, \"Frequency\": 8, \"Frequency in Sent\": 8, \"Sent\": \"Positive\"}, {\"Bigram\": \"product_fast\", \"Loglikelihood\": 7.514, \"Frequency\": 8, \"Frequency in Sent\": 8, \"Sent\": \"Positive\"}, {\"Bigram\": \"game_beginner\", \"Loglikelihood\": 7.514, \"Frequency\": 8, \"Frequency in Sent\": 8, \"Sent\": \"Positive\"}, {\"Bigram\": \"game_son\", \"Loglikelihood\": 7.514, \"Frequency\": 8, \"Frequency in Sent\": 8, \"Sent\": \"Positive\"}, {\"Bigram\": \"worth_price\", \"Loglikelihood\": 7.337, \"Frequency\": 55, \"Frequency in Sent\": 26, \"Sent\": \"Positive\"}, {\"Bigram\": \"bad_graphics\", \"Loglikelihood\": 7.329, \"Frequency\": 17, \"Frequency in Sent\": 0, \"Sent\": \"Positive\"}, {\"Bigram\": \"high_end\", \"Loglikelihood\": 7.329, \"Frequency\": 17, \"Frequency in Sent\": 0, \"Sent\": \"Positive\"}, {\"Bigram\": \"boss_fight\", \"Loglikelihood\": 7.329, \"Frequency\": 17, \"Frequency in Sent\": 0, \"Sent\": \"Positive\"}, {\"Bigram\": \"roller_coaster\", \"Loglikelihood\": 7.329, \"Frequency\": 17, \"Frequency in Sent\": 0, \"Sent\": \"Positive\"}, {\"Bigram\": \"something_game\", \"Loglikelihood\": 7.329, \"Frequency\": 17, \"Frequency in Sent\": 0, \"Sent\": \"Positive\"}, {\"Bigram\": \"first_hours\", \"Loglikelihood\": 7.329, \"Frequency\": 17, \"Frequency in Sent\": 0, \"Sent\": \"Positive\"}, {\"Bigram\": \"controls_game\", \"Loglikelihood\": 7.329, \"Frequency\": 17, \"Frequency in Sent\": 0, \"Sent\": \"Positive\"}, {\"Bigram\": \"work_great\", \"Loglikelihood\": 7.3, \"Frequency\": 22, \"Frequency in Sent\": 14, \"Sent\": \"Positive\"}, {\"Bigram\": \"good_quality\", \"Loglikelihood\": 7.193, \"Frequency\": 30, \"Frequency in Sent\": 17, \"Sent\": \"Positive\"}, {\"Bigram\": \"easy_use\", \"Loglikelihood\": 7.125, \"Frequency\": 44, \"Frequency in Sent\": 22, \"Sent\": \"Positive\"}, {\"Bigram\": \"phantasy_star\", \"Loglikelihood\": 7.015, \"Frequency\": 29, \"Frequency in Sent\": 1, \"Sent\": \"Positive\"}, {\"Bigram\": \"excellent_product\", \"Loglikelihood\": 43.518, \"Frequency\": 44, \"Frequency in Sent\": 0, \"Sent\": \"Neutral\"}, {\"Bigram\": \"great_game\", \"Loglikelihood\": 41.701, \"Frequency\": 595, \"Frequency in Sent\": 235, \"Sent\": \"Neutral\"}, {\"Bigram\": \"one_best\", \"Loglikelihood\": 32.755, \"Frequency\": 290, \"Frequency in Sent\": 98, \"Sent\": \"Neutral\"}, {\"Bigram\": \"love_game\", \"Loglikelihood\": 30.3, \"Frequency\": 286, \"Frequency in Sent\": 99, \"Sent\": \"Neutral\"}, {\"Bigram\": \"works_great\", \"Loglikelihood\": 28.921, \"Frequency\": 154, \"Frequency in Sent\": 41, \"Sent\": \"Neutral\"}, {\"Bigram\": \"man_sky\", \"Loglikelihood\": 27.694, \"Frequency\": 28, \"Frequency in Sent\": 0, \"Sent\": \"Neutral\"}, {\"Bigram\": \"great_product\", \"Loglikelihood\": 25.624, \"Frequency\": 76, \"Frequency in Sent\": 13, \"Sent\": \"Neutral\"}, {\"Bigram\": \"best_games\", \"Loglikelihood\": 21.459, \"Frequency\": 106, \"Frequency in Sent\": 27, \"Sent\": \"Neutral\"}, {\"Bigram\": \"great_price\", \"Loglikelihood\": 19.732, \"Frequency\": 67, \"Frequency in Sent\": 13, \"Sent\": \"Neutral\"}, {\"Bigram\": \"fast_shipping\", \"Loglikelihood\": 17.634, \"Frequency\": 33, \"Frequency in Sent\": 3, \"Sent\": \"Neutral\"}, {\"Bigram\": \"game_ever\", \"Loglikelihood\": 15.428, \"Frequency\": 178, \"Frequency in Sent\": 66, \"Sent\": \"Neutral\"}, {\"Bigram\": \"sports_season\", \"Loglikelihood\": 14.836, \"Frequency\": 15, \"Frequency in Sent\": 0, \"Sent\": \"Neutral\"}, {\"Bigram\": \"season_two\", \"Loglikelihood\": 14.836, \"Frequency\": 15, \"Frequency in Sent\": 0, \"Sent\": \"Neutral\"}, {\"Bigram\": \"ever_played\", \"Loglikelihood\": 13.48, \"Frequency\": 148, \"Frequency in Sent\": 54, \"Sent\": \"Neutral\"}, {\"Bigram\": \"kids_love\", \"Loglikelihood\": 13.417, \"Frequency\": 46, \"Frequency in Sent\": 9, \"Sent\": \"Neutral\"}, {\"Bigram\": \"dance_pad\", \"Loglikelihood\": 12.858, \"Frequency\": 13, \"Frequency in Sent\": 0, \"Sent\": \"Neutral\"}, {\"Bigram\": \"product_described\", \"Loglikelihood\": 12.858, \"Frequency\": 13, \"Frequency in Sent\": 0, \"Sent\": \"Neutral\"}, {\"Bigram\": \"good_product\", \"Loglikelihood\": 11.997, \"Frequency\": 41, \"Frequency in Sent\": 8, \"Sent\": \"Neutral\"}, {\"Bigram\": \"tes_series\", \"Loglikelihood\": 11.869, \"Frequency\": 12, \"Frequency in Sent\": 0, \"Sent\": \"Neutral\"}, {\"Bigram\": \"tales_xillia\", \"Loglikelihood\": 11.869, \"Frequency\": 12, \"Frequency in Sent\": 0, \"Sent\": \"Neutral\"}, {\"Bigram\": \"witcher_ii\", \"Loglikelihood\": 11.869, \"Frequency\": 12, \"Frequency in Sent\": 0, \"Sent\": \"Neutral\"}, {\"Bigram\": \"thank_much\", \"Loglikelihood\": 11.85, \"Frequency\": 18, \"Frequency in Sent\": 1, \"Sent\": \"Neutral\"}, {\"Bigram\": \"great_item\", \"Loglikelihood\": 11.756, \"Frequency\": 22, \"Frequency in Sent\": 2, \"Sent\": \"Neutral\"}, {\"Bigram\": \"kinect_sports\", \"Loglikelihood\": 11.306, \"Frequency\": 25, \"Frequency in Sent\": 3, \"Sent\": \"Neutral\"}, {\"Bigram\": \"works_perfectly\", \"Loglikelihood\": 11.214, \"Frequency\": 37, \"Frequency in Sent\": 7, \"Sent\": \"Neutral\"}, {\"Bigram\": \"universe_true\", \"Loglikelihood\": 10.88, \"Frequency\": 11, \"Frequency in Sent\": 0, \"Sent\": \"Neutral\"}, {\"Bigram\": \"highly_recommended\", \"Loglikelihood\": 10.717, \"Frequency\": 66, \"Frequency in Sent\": 19, \"Sent\": \"Neutral\"}, {\"Bigram\": \"best_game\", \"Loglikelihood\": 10.062, \"Frequency\": 116, \"Frequency in Sent\": 43, \"Sent\": \"Neutral\"}, {\"Bigram\": \"super_paper\", \"Loglikelihood\": 9.891, \"Frequency\": 10, \"Frequency in Sent\": 0, \"Sent\": \"Neutral\"}, {\"Bigram\": \"construction_set\", \"Loglikelihood\": 9.891, \"Frequency\": 10, \"Frequency in Sent\": 0, \"Sent\": \"Neutral\"}, {\"Bigram\": \"dragonball_z\", \"Loglikelihood\": 9.891, \"Frequency\": 10, \"Frequency in Sent\": 0, \"Sent\": \"Neutral\"}, {\"Bigram\": \"best_best\", \"Loglikelihood\": 9.685, \"Frequency\": 26, \"Frequency in Sent\": 4, \"Sent\": \"Neutral\"}, {\"Bigram\": \"waste_money\", \"Loglikelihood\": 9.452, \"Frequency\": 42, \"Frequency in Sent\": 10, \"Sent\": \"Neutral\"}, {\"Bigram\": \"games_ever\", \"Loglikelihood\": 9.016, \"Frequency\": 111, \"Frequency in Sent\": 42, \"Sent\": \"Neutral\"}, {\"Bigram\": \"portable_ops\", \"Loglikelihood\": 8.902, \"Frequency\": 9, \"Frequency in Sent\": 0, \"Sent\": \"Neutral\"}, {\"Bigram\": \"product_description\", \"Loglikelihood\": 8.902, \"Frequency\": 9, \"Frequency in Sent\": 0, \"Sent\": \"Neutral\"}, {\"Bigram\": \"love_lego\", \"Loglikelihood\": 8.902, \"Frequency\": 9, \"Frequency in Sent\": 0, \"Sent\": \"Neutral\"}, {\"Bigram\": \"easy_install\", \"Loglikelihood\": 8.902, \"Frequency\": 9, \"Frequency in Sent\": 0, \"Sent\": \"Neutral\"}, {\"Bigram\": \"th_loading\", \"Loglikelihood\": 8.902, \"Frequency\": 9, \"Frequency in Sent\": 0, \"Sent\": \"Neutral\"}, {\"Bigram\": \"grandson_loves\", \"Loglikelihood\": 8.902, \"Frequency\": 9, \"Frequency in Sent\": 0, \"Sent\": \"Neutral\"}, {\"Bigram\": \"got_time\", \"Loglikelihood\": 8.902, \"Frequency\": 9, \"Frequency in Sent\": 0, \"Sent\": \"Neutral\"}, {\"Bigram\": \"awesome_game\", \"Loglikelihood\": 8.662, \"Frequency\": 79, \"Frequency in Sent\": 27, \"Sent\": \"Neutral\"}, {\"Bigram\": \"greatest_video\", \"Loglikelihood\": 8.565, \"Frequency\": 18, \"Frequency in Sent\": 2, \"Sent\": \"Neutral\"}, {\"Bigram\": \"loves_game\", \"Loglikelihood\": 8.359, \"Frequency\": 35, \"Frequency in Sent\": 8, \"Sent\": \"Neutral\"}, {\"Bigram\": \"metal_gear\", \"Loglikelihood\": 8.347, \"Frequency\": 103, \"Frequency in Sent\": 39, \"Sent\": \"Neutral\"}, {\"Bigram\": \"must_buy\", \"Loglikelihood\": 8.151, \"Frequency\": 56, \"Frequency in Sent\": 17, \"Sent\": \"Neutral\"}, {\"Bigram\": \"hotel_dusk\", \"Loglikelihood\": 7.912, \"Frequency\": 8, \"Frequency in Sent\": 0, \"Sent\": \"Neutral\"}, {\"Bigram\": \"gamecube_wii\", \"Loglikelihood\": 7.912, \"Frequency\": 8, \"Frequency in Sent\": 0, \"Sent\": \"Neutral\"}, {\"Bigram\": \"ed_driving\", \"Loglikelihood\": 7.912, \"Frequency\": 8, \"Frequency in Sent\": 0, \"Sent\": \"Neutral\"}, {\"Bigram\": \"top_spin\", \"Loglikelihood\": 7.912, \"Frequency\": 8, \"Frequency in Sent\": 0, \"Sent\": \"Neutral\"}, {\"Bigram\": \"beginner_drivers\", \"Loglikelihood\": 7.912, \"Frequency\": 8, \"Frequency in Sent\": 0, \"Sent\": \"Neutral\"}, {\"Bigram\": \"open_map\", \"Loglikelihood\": 7.912, \"Frequency\": 8, \"Frequency in Sent\": 0, \"Sent\": \"Neutral\"}, {\"Bigram\": \"simuride_home\", \"Loglikelihood\": 7.912, \"Frequency\": 8, \"Frequency in Sent\": 0, \"Sent\": \"Neutral\"}, {\"Bigram\": \"bethesda_softworks\", \"Loglikelihood\": 7.912, \"Frequency\": 8, \"Frequency in Sent\": 0, \"Sent\": \"Neutral\"}, {\"Bigram\": \"home_ed\", \"Loglikelihood\": 7.912, \"Frequency\": 8, \"Frequency in Sent\": 0, \"Sent\": \"Neutral\"}, {\"Bigram\": \"product_fast\", \"Loglikelihood\": 7.912, \"Frequency\": 8, \"Frequency in Sent\": 0, \"Sent\": \"Neutral\"}, {\"Bigram\": \"grand_theftouto\", \"Loglikelihood\": 7.912, \"Frequency\": 8, \"Frequency in Sent\": 0, \"Sent\": \"Neutral\"}, {\"Bigram\": \"game_beginner\", \"Loglikelihood\": 7.912, \"Frequency\": 8, \"Frequency in Sent\": 0, \"Sent\": \"Neutral\"}, {\"Bigram\": \"game_son\", \"Loglikelihood\": 7.912, \"Frequency\": 8, \"Frequency in Sent\": 0, \"Sent\": \"Neutral\"}, {\"Bigram\": \"gear_solid\", \"Loglikelihood\": 7.599, \"Frequency\": 57, \"Frequency in Sent\": 18, \"Sent\": \"Neutral\"}, {\"Bigram\": \"great_buy\", \"Loglikelihood\": 7.512, \"Frequency\": 36, \"Frequency in Sent\": 9, \"Sent\": \"Neutral\"}, {\"Bigram\": \"highly_recommend\", \"Loglikelihood\": 7.302, \"Frequency\": 137, \"Frequency in Sent\": 58, \"Sent\": \"Neutral\"}, {\"Bigram\": \"happy_purchase\", \"Loglikelihood\": 7.301, \"Frequency\": 28, \"Frequency in Sent\": 6, \"Sent\": \"Neutral\"}, {\"Bigram\": \"fun_love\", \"Loglikelihood\": 7.032, \"Frequency\": 16, \"Frequency in Sent\": 2, \"Sent\": \"Neutral\"}, {\"Bigram\": \"great_value\", \"Loglikelihood\": 7.032, \"Frequency\": 16, \"Frequency in Sent\": 2, \"Sent\": \"Neutral\"}, {\"Bigram\": \"game_metal\", \"Loglikelihood\": 6.923, \"Frequency\": 7, \"Frequency in Sent\": 0, \"Sent\": \"Neutral\"}, {\"Bigram\": \"water_damage\", \"Loglikelihood\": 6.923, \"Frequency\": 7, \"Frequency in Sent\": 0, \"Sent\": \"Neutral\"}, {\"Bigram\": \"enemy_ship\", \"Loglikelihood\": 6.923, \"Frequency\": 7, \"Frequency in Sent\": 0, \"Sent\": \"Neutral\"}, {\"Bigram\": \"gamepad_tablet\", \"Loglikelihood\": 6.923, \"Frequency\": 7, \"Frequency in Sent\": 0, \"Sent\": \"Neutral\"}, {\"Bigram\": \"addicting_game\", \"Loglikelihood\": 6.923, \"Frequency\": 7, \"Frequency in Sent\": 0, \"Sent\": \"Neutral\"}, {\"Bigram\": \"action_point\", \"Loglikelihood\": 6.923, \"Frequency\": 7, \"Frequency in Sent\": 0, \"Sent\": \"Neutral\"}, {\"Bigram\": \"excellent_item\", \"Loglikelihood\": 6.923, \"Frequency\": 7, \"Frequency in Sent\": 0, \"Sent\": \"Neutral\"}, {\"Bigram\": \"money_something\", \"Loglikelihood\": 6.923, \"Frequency\": 7, \"Frequency in Sent\": 0, \"Sent\": \"Neutral\"}, {\"Bigram\": \"characters_different\", \"Loglikelihood\": 6.923, \"Frequency\": 7, \"Frequency in Sent\": 0, \"Sent\": \"Neutral\"}, {\"Bigram\": \"son_loved\", \"Loglikelihood\": 6.914, \"Frequency\": 19, \"Frequency in Sent\": 3, \"Sent\": \"Neutral\"}, {\"Bigram\": \"wii_fit\", \"Loglikelihood\": 6.902, \"Frequency\": 51, \"Frequency in Sent\": 16, \"Sent\": \"Neutral\"}, {\"Bigram\": \"game_great\", \"Loglikelihood\": 6.825, \"Frequency\": 237, \"Frequency in Sent\": 113, \"Sent\": \"Neutral\"}, {\"Bigram\": \"whatever_want\", \"Loglikelihood\": 6.7, \"Frequency\": 12, \"Frequency in Sent\": 1, \"Sent\": \"Neutral\"}, {\"Bigram\": \"good_condition\", \"Loglikelihood\": 6.393, \"Frequency\": 29, \"Frequency in Sent\": 7, \"Sent\": \"Neutral\"}, {\"Bigram\": \"favorite_games\", \"Loglikelihood\": 6.314, \"Frequency\": 43, \"Frequency in Sent\": 13, \"Sent\": \"Neutral\"}, {\"Bigram\": \"perfect_condition\", \"Loglikelihood\": 6.286, \"Frequency\": 15, \"Frequency in Sent\": 2, \"Sent\": \"Neutral\"}, {\"Bigram\": \"ghost_recon\", \"Loglikelihood\": 6.261, \"Frequency\": 36, \"Frequency in Sent\": 10, \"Sent\": \"Neutral\"}, {\"Bigram\": \"amazing_game\", \"Loglikelihood\": 6.259, \"Frequency\": 56, \"Frequency in Sent\": 19, \"Sent\": \"Neutral\"}, {\"Bigram\": \"great_gift\", \"Loglikelihood\": 6.226, \"Frequency\": 18, \"Frequency in Sent\": 3, \"Sent\": \"Neutral\"}, {\"Bigram\": \"fighter_ii\", \"Loglikelihood\": 6.226, \"Frequency\": 18, \"Frequency in Sent\": 3, \"Sent\": \"Neutral\"}, {\"Bigram\": \"waste_time\", \"Loglikelihood\": 6.103, \"Frequency\": 38, \"Frequency in Sent\": 11, \"Sent\": \"Neutral\"}, {\"Bigram\": \"everything_perfect\", \"Loglikelihood\": 5.934, \"Frequency\": 6, \"Frequency in Sent\": 0, \"Sent\": \"Neutral\"}, {\"Bigram\": \"since_pretty\", \"Loglikelihood\": 5.934, \"Frequency\": 6, \"Frequency in Sent\": 0, \"Sent\": \"Neutral\"}, {\"Bigram\": \"true_classics\", \"Loglikelihood\": 5.934, \"Frequency\": 6, \"Frequency in Sent\": 0, \"Sent\": \"Neutral\"}, {\"Bigram\": \"older_kids\", \"Loglikelihood\": 5.934, \"Frequency\": 6, \"Frequency in Sent\": 0, \"Sent\": \"Neutral\"}, {\"Bigram\": \"shin_budokai\", \"Loglikelihood\": 5.934, \"Frequency\": 6, \"Frequency in Sent\": 0, \"Sent\": \"Neutral\"}, {\"Bigram\": \"classics_best\", \"Loglikelihood\": 5.934, \"Frequency\": 6, \"Frequency in Sent\": 0, \"Sent\": \"Neutral\"}, {\"Bigram\": \"plastic_case\", \"Loglikelihood\": 5.934, \"Frequency\": 6, \"Frequency in Sent\": 0, \"Sent\": \"Neutral\"}, {\"Bigram\": \"amazing_system\", \"Loglikelihood\": 5.934, \"Frequency\": 6, \"Frequency in Sent\": 0, \"Sent\": \"Neutral\"}, {\"Bigram\": \"awesome_love\", \"Loglikelihood\": 5.934, \"Frequency\": 6, \"Frequency in Sent\": 0, \"Sent\": \"Neutral\"}, {\"Bigram\": \"best_konami\", \"Loglikelihood\": 5.934, \"Frequency\": 6, \"Frequency in Sent\": 0, \"Sent\": \"Neutral\"}, {\"Bigram\": \"konami_rocks\", \"Loglikelihood\": 5.934, \"Frequency\": 6, \"Frequency in Sent\": 0, \"Sent\": \"Neutral\"}, {\"Bigram\": \"steel_case\", \"Loglikelihood\": 5.934, \"Frequency\": 6, \"Frequency in Sent\": 0, \"Sent\": \"Neutral\"}, {\"Bigram\": \"dig_dug\", \"Loglikelihood\": 5.934, \"Frequency\": 6, \"Frequency in Sent\": 0, \"Sent\": \"Neutral\"}, {\"Bigram\": \"play_tennis\", \"Loglikelihood\": 5.934, \"Frequency\": 6, \"Frequency in Sent\": 0, \"Sent\": \"Neutral\"}, {\"Bigram\": \"high_setting\", \"Loglikelihood\": 5.934, \"Frequency\": 6, \"Frequency in Sent\": 0, \"Sent\": \"Neutral\"}, {\"Bigram\": \"great_picture\", \"Loglikelihood\": 5.934, \"Frequency\": 6, \"Frequency in Sent\": 0, \"Sent\": \"Neutral\"}, {\"Bigram\": \"indicator_lights\", \"Loglikelihood\": 5.934, \"Frequency\": 6, \"Frequency in Sent\": 0, \"Sent\": \"Neutral\"}, {\"Bigram\": \"big_rigs\", \"Loglikelihood\": 5.934, \"Frequency\": 6, \"Frequency in Sent\": 0, \"Sent\": \"Neutral\"}, {\"Bigram\": \"arena_daggerfall\", \"Loglikelihood\": 5.934, \"Frequency\": 6, \"Frequency in Sent\": 0, \"Sent\": \"Neutral\"}, {\"Bigram\": \"simply_amazing\", \"Loglikelihood\": 5.934, \"Frequency\": 6, \"Frequency in Sent\": 0, \"Sent\": \"Neutral\"}, {\"Bigram\": \"also_best\", \"Loglikelihood\": 5.934, \"Frequency\": 6, \"Frequency in Sent\": 0, \"Sent\": \"Neutral\"}, {\"Bigram\": \"rayman_legends\", \"Loglikelihood\": 5.934, \"Frequency\": 6, \"Frequency in Sent\": 0, \"Sent\": \"Neutral\"}, {\"Bigram\": \"school_crpg\", \"Loglikelihood\": 5.934, \"Frequency\": 6, \"Frequency in Sent\": 0, \"Sent\": \"Neutral\"}, {\"Bigram\": \"blue_ray\", \"Loglikelihood\": 5.934, \"Frequency\": 6, \"Frequency in Sent\": 0, \"Sent\": \"Neutral\"}, {\"Bigram\": \"red_brick\", \"Loglikelihood\": 5.934, \"Frequency\": 6, \"Frequency in Sent\": 0, \"Sent\": \"Neutral\"}, {\"Bigram\": \"games_universe\", \"Loglikelihood\": 5.934, \"Frequency\": 6, \"Frequency in Sent\": 0, \"Sent\": \"Neutral\"}, {\"Bigram\": \"took_hour\", \"Loglikelihood\": 5.934, \"Frequency\": 6, \"Frequency in Sent\": 0, \"Sent\": \"Neutral\"}, {\"Bigram\": \"castlevania_games\", \"Loglikelihood\": 5.878, \"Frequency\": 11, \"Frequency in Sent\": 1, \"Sent\": \"Neutral\"}, {\"Bigram\": \"customer_support\", \"Loglikelihood\": 5.878, \"Frequency\": 11, \"Frequency in Sent\": 1, \"Sent\": \"Neutral\"}, {\"Bigram\": \"simulation_game\", \"Loglikelihood\": 5.878, \"Frequency\": 11, \"Frequency in Sent\": 1, \"Sent\": \"Neutral\"}, {\"Bigram\": \"xbox_one\", \"Loglikelihood\": 5.726, \"Frequency\": 201, \"Frequency in Sent\": 96, \"Sent\": \"Neutral\"}, {\"Bigram\": \"one_favorite\", \"Loglikelihood\": 5.665, \"Frequency\": 77, \"Frequency in Sent\": 30, \"Sent\": \"Neutral\"}, {\"Bigram\": \"great_addition\", \"Loglikelihood\": 5.629, \"Frequency\": 37, \"Frequency in Sent\": 11, \"Sent\": \"Neutral\"}, {\"Bigram\": \"buy_game\", \"Loglikelihood\": 5.566, \"Frequency\": 193, \"Frequency in Sent\": 92, \"Sent\": \"Neutral\"}, {\"Bigram\": \"game_crashes\", \"Loglikelihood\": 5.555, \"Frequency\": 14, \"Frequency in Sent\": 2, \"Sent\": \"Neutral\"}, {\"Bigram\": \"fast_delivery\", \"Loglikelihood\": 5.553, \"Frequency\": 17, \"Frequency in Sent\": 3, \"Sent\": \"Neutral\"}, {\"Bigram\": \"son_loves\", \"Loglikelihood\": 5.333, \"Frequency\": 43, \"Frequency in Sent\": 14, \"Sent\": \"Neutral\"}, {\"Bigram\": \"buy_another\", \"Loglikelihood\": 5.297, \"Frequency\": 22, \"Frequency in Sent\": 5, \"Sent\": \"Neutral\"}, {\"Bigram\": \"wii_u\", \"Loglikelihood\": 5.074, \"Frequency\": 221, \"Frequency in Sent\": 109, \"Sent\": \"Neutral\"}, {\"Bigram\": \"love_great\", \"Loglikelihood\": 5.071, \"Frequency\": 10, \"Frequency in Sent\": 1, \"Sent\": \"Neutral\"}, {\"Bigram\": \"smash_game\", \"Loglikelihood\": 5.071, \"Frequency\": 10, \"Frequency in Sent\": 1, \"Sent\": \"Neutral\"}, {\"Bigram\": \"driving_simulation\", \"Loglikelihood\": 5.071, \"Frequency\": 10, \"Frequency in Sent\": 1, \"Sent\": \"Neutral\"}, {\"Bigram\": \"plays_great\", \"Loglikelihood\": 5.068, \"Frequency\": 19, \"Frequency in Sent\": 4, \"Sent\": \"Neutral\"}, {\"Bigram\": \"first_video\", \"Loglikelihood\": 4.945, \"Frequency\": 5, \"Frequency in Sent\": 0, \"Sent\": \"Neutral\"}, {\"Bigram\": \"lo_recomiendo\", \"Loglikelihood\": 4.945, \"Frequency\": 5, \"Frequency in Sent\": 0, \"Sent\": \"Neutral\"}, {\"Bigram\": \"grandson_happy\", \"Loglikelihood\": 4.945, \"Frequency\": 5, \"Frequency in Sent\": 0, \"Sent\": \"Neutral\"}, {\"Bigram\": \"son_wanted\", \"Loglikelihood\": 4.945, \"Frequency\": 5, \"Frequency in Sent\": 0, \"Sent\": \"Neutral\"}, {\"Bigram\": \"shipped_quickly\", \"Loglikelihood\": 4.945, \"Frequency\": 5, \"Frequency in Sent\": 0, \"Sent\": \"Neutral\"}, {\"Bigram\": \"product_excellent\", \"Loglikelihood\": 4.945, \"Frequency\": 5, \"Frequency in Sent\": 0, \"Sent\": \"Neutral\"}, {\"Bigram\": \"product_service\", \"Loglikelihood\": 4.945, \"Frequency\": 5, \"Frequency in Sent\": 0, \"Sent\": \"Neutral\"}, {\"Bigram\": \"great_company\", \"Loglikelihood\": 4.945, \"Frequency\": 5, \"Frequency in Sent\": 0, \"Sent\": \"Neutral\"}, {\"Bigram\": \"bought_kids\", \"Loglikelihood\": 4.945, \"Frequency\": 5, \"Frequency in Sent\": 0, \"Sent\": \"Neutral\"}, {\"Bigram\": \"nbsp_halo\", \"Loglikelihood\": 4.945, \"Frequency\": 5, \"Frequency in Sent\": 0, \"Sent\": \"Neutral\"}, {\"Bigram\": \"responsive_well\", \"Loglikelihood\": 4.945, \"Frequency\": 5, \"Frequency in Sent\": 0, \"Sent\": \"Neutral\"}, {\"Bigram\": \"product_quality\", \"Loglikelihood\": 4.945, \"Frequency\": 5, \"Frequency in Sent\": 0, \"Sent\": \"Neutral\"}, {\"Bigram\": \"turn_aging\", \"Loglikelihood\": 4.945, \"Frequency\": 5, \"Frequency in Sent\": 0, \"Sent\": \"Neutral\"}, {\"Bigram\": \"price_well\", \"Loglikelihood\": 4.945, \"Frequency\": 5, \"Frequency in Sent\": 0, \"Sent\": \"Neutral\"}, {\"Bigram\": \"get_never\", \"Loglikelihood\": 4.945, \"Frequency\": 5, \"Frequency in Sent\": 0, \"Sent\": \"Neutral\"}, {\"Bigram\": \"management_page\", \"Loglikelihood\": 4.945, \"Frequency\": 5, \"Frequency in Sent\": 0, \"Sent\": \"Neutral\"}, {\"Bigram\": \"oh_man\", \"Loglikelihood\": 4.945, \"Frequency\": 5, \"Frequency in Sent\": 0, \"Sent\": \"Neutral\"}, {\"Bigram\": \"game_creative\", \"Loglikelihood\": 4.945, \"Frequency\": 5, \"Frequency in Sent\": 0, \"Sent\": \"Neutral\"}, {\"Bigram\": \"u_need\", \"Loglikelihood\": 4.945, \"Frequency\": 5, \"Frequency in Sent\": 0, \"Sent\": \"Neutral\"}, {\"Bigram\": \"collection_also\", \"Loglikelihood\": 4.945, \"Frequency\": 5, \"Frequency in Sent\": 0, \"Sent\": \"Neutral\"}, {\"Bigram\": \"kinect_game\", \"Loglikelihood\": 4.945, \"Frequency\": 5, \"Frequency in Sent\": 0, \"Sent\": \"Neutral\"}, {\"Bigram\": \"waste_money\", \"Loglikelihood\": 40.478, \"Frequency\": 42, \"Frequency in Sent\": 28, \"Sent\": \"Negative\"}, {\"Bigram\": \"highly_recommend\", \"Loglikelihood\": 30.981, \"Frequency\": 137, \"Frequency in Sent\": 0, \"Sent\": \"Negative\"}, {\"Bigram\": \"waste_time\", \"Loglikelihood\": 30.6, \"Frequency\": 38, \"Frequency in Sent\": 23, \"Sent\": \"Negative\"}, {\"Bigram\": \"worst_game\", \"Loglikelihood\": 24.791, \"Frequency\": 22, \"Frequency in Sent\": 16, \"Sent\": \"Negative\"}, {\"Bigram\": \"love_game\", \"Loglikelihood\": 24.382, \"Frequency\": 286, \"Frequency in Sent\": 9, \"Sent\": \"Negative\"}, {\"Bigram\": \"tes_series\", \"Loglikelihood\": 23.1, \"Frequency\": 12, \"Frequency in Sent\": 12, \"Sent\": \"Negative\"}, {\"Bigram\": \"works_great\", \"Loglikelihood\": 22.368, \"Frequency\": 154, \"Frequency in Sent\": 2, \"Sent\": \"Negative\"}, {\"Bigram\": \"great_game\", \"Loglikelihood\": 22.048, \"Frequency\": 595, \"Frequency in Sent\": 34, \"Sent\": \"Negative\"}, {\"Bigram\": \"one_best\", \"Loglikelihood\": 20.372, \"Frequency\": 290, \"Frequency in Sent\": 11, \"Sent\": \"Negative\"}, {\"Bigram\": \"internet_connection\", \"Loglikelihood\": 19.884, \"Frequency\": 36, \"Frequency in Sent\": 18, \"Sent\": \"Negative\"}, {\"Bigram\": \"construction_set\", \"Loglikelihood\": 19.25, \"Frequency\": 10, \"Frequency in Sent\": 10, \"Sent\": \"Negative\"}, {\"Bigram\": \"game_story\", \"Loglikelihood\": 18.996, \"Frequency\": 84, \"Frequency in Sent\": 0, \"Sent\": \"Negative\"}, {\"Bigram\": \"get_used\", \"Loglikelihood\": 18.77, \"Frequency\": 114, \"Frequency in Sent\": 1, \"Sent\": \"Negative\"}, {\"Bigram\": \"buy_game\", \"Loglikelihood\": 17.638, \"Frequency\": 193, \"Frequency in Sent\": 48, \"Sent\": \"Negative\"}, {\"Bigram\": \"one_favorite\", \"Loglikelihood\": 17.413, \"Frequency\": 77, \"Frequency in Sent\": 0, \"Sent\": \"Negative\"}, {\"Bigram\": \"th_loading\", \"Loglikelihood\": 17.325, \"Frequency\": 9, \"Frequency in Sent\": 9, \"Sent\": \"Negative\"}, {\"Bigram\": \"well_worth\", \"Loglikelihood\": 16.692, \"Frequency\": 104, \"Frequency in Sent\": 1, \"Sent\": \"Negative\"}, {\"Bigram\": \"save_money\", \"Loglikelihood\": 16.57, \"Frequency\": 30, \"Frequency in Sent\": 15, \"Sent\": \"Negative\"}, {\"Bigram\": \"boring_game\", \"Loglikelihood\": 15.841, \"Frequency\": 20, \"Frequency in Sent\": 12, \"Sent\": \"Negative\"}, {\"Bigram\": \"top_spin\", \"Loglikelihood\": 15.4, \"Frequency\": 8, \"Frequency in Sent\": 8, \"Sent\": \"Negative\"}, {\"Bigram\": \"grand_theftouto\", \"Loglikelihood\": 15.4, \"Frequency\": 8, \"Frequency in Sent\": 8, \"Sent\": \"Negative\"}, {\"Bigram\": \"game_crashes\", \"Loglikelihood\": 15.28, \"Frequency\": 14, \"Frequency in Sent\": 10, \"Sent\": \"Negative\"}, {\"Bigram\": \"customer_support\", \"Loglikelihood\": 15.205, \"Frequency\": 11, \"Frequency in Sent\": 9, \"Sent\": \"Negative\"}, {\"Bigram\": \"one_worst\", \"Loglikelihood\": 14.761, \"Frequency\": 18, \"Frequency in Sent\": 11, \"Sent\": \"Negative\"}, {\"Bigram\": \"install_game\", \"Loglikelihood\": 14.761, \"Frequency\": 18, \"Frequency in Sent\": 11, \"Sent\": \"Negative\"}, {\"Bigram\": \"mega_man\", \"Loglikelihood\": 13.795, \"Frequency\": 61, \"Frequency in Sent\": 0, \"Sent\": \"Negative\"}, {\"Bigram\": \"water_damage\", \"Loglikelihood\": 13.475, \"Frequency\": 7, \"Frequency in Sent\": 7, \"Sent\": \"Negative\"}, {\"Bigram\": \"gamepad_tablet\", \"Loglikelihood\": 13.475, \"Frequency\": 7, \"Frequency in Sent\": 7, \"Sent\": \"Negative\"}, {\"Bigram\": \"customer_service\", \"Loglikelihood\": 13.385, \"Frequency\": 20, \"Frequency in Sent\": 11, \"Sent\": \"Negative\"}, {\"Bigram\": \"voice_acting\", \"Loglikelihood\": 13.035, \"Frequency\": 199, \"Frequency in Sent\": 8, \"Sent\": \"Negative\"}, {\"Bigram\": \"piece_junk\", \"Loglikelihood\": 12.382, \"Frequency\": 8, \"Frequency in Sent\": 7, \"Sent\": \"Negative\"}, {\"Bigram\": \"bethesda_softworks\", \"Loglikelihood\": 12.382, \"Frequency\": 8, \"Frequency in Sent\": 7, \"Sent\": \"Negative\"}, {\"Bigram\": \"boring_repetitive\", \"Loglikelihood\": 12.382, \"Frequency\": 8, \"Frequency in Sent\": 7, \"Sent\": \"Negative\"}, {\"Bigram\": \"looks_like\", \"Loglikelihood\": 12.297, \"Frequency\": 104, \"Frequency in Sent\": 28, \"Sent\": \"Negative\"}, {\"Bigram\": \"lot_fun\", \"Loglikelihood\": 12.279, \"Frequency\": 180, \"Frequency in Sent\": 7, \"Sent\": \"Negative\"}, {\"Bigram\": \"take_time\", \"Loglikelihood\": 12.212, \"Frequency\": 54, \"Frequency in Sent\": 0, \"Sent\": \"Negative\"}, {\"Bigram\": \"along_way\", \"Loglikelihood\": 12.212, \"Frequency\": 54, \"Frequency in Sent\": 0, \"Sent\": \"Negative\"}, {\"Bigram\": \"main_quest\", \"Loglikelihood\": 12.211, \"Frequency\": 30, \"Frequency in Sent\": 13, \"Sent\": \"Negative\"}, {\"Bigram\": \"auction_house\", \"Loglikelihood\": 12.152, \"Frequency\": 22, \"Frequency in Sent\": 11, \"Sent\": \"Negative\"}, {\"Bigram\": \"great_fun\", \"Loglikelihood\": 11.986, \"Frequency\": 53, \"Frequency in Sent\": 0, \"Sent\": \"Negative\"}, {\"Bigram\": \"game_sucks\", \"Loglikelihood\": 11.88, \"Frequency\": 15, \"Frequency in Sent\": 9, \"Sent\": \"Negative\"}, {\"Bigram\": \"money_game\", \"Loglikelihood\": 11.88, \"Frequency\": 15, \"Frequency in Sent\": 9, \"Sent\": \"Negative\"}, {\"Bigram\": \"awesome_game\", \"Loglikelihood\": 11.585, \"Frequency\": 79, \"Frequency in Sent\": 1, \"Sent\": \"Negative\"}, {\"Bigram\": \"never_buy\", \"Loglikelihood\": 11.565, \"Frequency\": 12, \"Frequency in Sent\": 8, \"Sent\": \"Negative\"}, {\"Bigram\": \"high_setting\", \"Loglikelihood\": 11.55, \"Frequency\": 6, \"Frequency in Sent\": 6, \"Sent\": \"Negative\"}, {\"Bigram\": \"big_rigs\", \"Loglikelihood\": 11.55, \"Frequency\": 6, \"Frequency in Sent\": 6, \"Sent\": \"Negative\"}, {\"Bigram\": \"arena_daggerfall\", \"Loglikelihood\": 11.55, \"Frequency\": 6, \"Frequency in Sent\": 6, \"Sent\": \"Negative\"}, {\"Bigram\": \"school_crpg\", \"Loglikelihood\": 11.55, \"Frequency\": 6, \"Frequency in Sent\": 6, \"Sent\": \"Negative\"}, {\"Bigram\": \"red_brick\", \"Loglikelihood\": 11.55, \"Frequency\": 6, \"Frequency in Sent\": 6, \"Sent\": \"Negative\"}, {\"Bigram\": \"get_passed\", \"Loglikelihood\": 11.406, \"Frequency\": 9, \"Frequency in Sent\": 7, \"Sent\": \"Negative\"}, {\"Bigram\": \"money_back\", \"Loglikelihood\": 11.406, \"Frequency\": 9, \"Frequency in Sent\": 7, \"Sent\": \"Negative\"}, {\"Bigram\": \"many_problems\", \"Loglikelihood\": 11.406, \"Frequency\": 9, \"Frequency in Sent\": 7, \"Sent\": \"Negative\"}, {\"Bigram\": \"much_fun\", \"Loglikelihood\": 11.236, \"Frequency\": 159, \"Frequency in Sent\": 6, \"Sent\": \"Negative\"}, {\"Bigram\": \"game_buy\", \"Loglikelihood\": 11.139, \"Frequency\": 46, \"Frequency in Sent\": 16, \"Sent\": \"Negative\"}, {\"Bigram\": \"great_product\", \"Loglikelihood\": 10.984, \"Frequency\": 76, \"Frequency in Sent\": 1, \"Sent\": \"Negative\"}, {\"Bigram\": \"bought_game\", \"Loglikelihood\": 10.887, \"Frequency\": 127, \"Frequency in Sent\": 31, \"Sent\": \"Negative\"}, {\"Bigram\": \"move_controllers\", \"Loglikelihood\": 10.802, \"Frequency\": 13, \"Frequency in Sent\": 8, \"Sent\": \"Negative\"}, {\"Bigram\": \"play_game\", \"Loglikelihood\": 10.67, \"Frequency\": 334, \"Frequency in Sent\": 64, \"Sent\": \"Negative\"}, {\"Bigram\": \"release_game\", \"Loglikelihood\": 10.546, \"Frequency\": 17, \"Frequency in Sent\": 9, \"Sent\": \"Negative\"}, {\"Bigram\": \"real_money\", \"Loglikelihood\": 10.527, \"Frequency\": 10, \"Frequency in Sent\": 7, \"Sent\": \"Negative\"}, {\"Bigram\": \"send_back\", \"Loglikelihood\": 10.527, \"Frequency\": 10, \"Frequency in Sent\": 7, \"Sent\": \"Negative\"}, {\"Bigram\": \"action_point\", \"Loglikelihood\": 10.467, \"Frequency\": 7, \"Frequency in Sent\": 6, \"Sent\": \"Negative\"}, {\"Bigram\": \"money_something\", \"Loglikelihood\": 10.467, \"Frequency\": 7, \"Frequency in Sent\": 6, \"Sent\": \"Negative\"}, {\"Bigram\": \"play_offline\", \"Loglikelihood\": 10.467, \"Frequency\": 7, \"Frequency in Sent\": 6, \"Sent\": \"Negative\"}, {\"Bigram\": \"game_amazing\", \"Loglikelihood\": 10.403, \"Frequency\": 46, \"Frequency in Sent\": 0, \"Sent\": \"Negative\"}, {\"Bigram\": \"kids_love\", \"Loglikelihood\": 10.403, \"Frequency\": 46, \"Frequency in Sent\": 0, \"Sent\": \"Negative\"}, {\"Bigram\": \"easy_use\", \"Loglikelihood\": 9.95, \"Frequency\": 44, \"Frequency in Sent\": 0, \"Sent\": \"Negative\"}, {\"Bigram\": \"stay_away\", \"Loglikelihood\": 9.94, \"Frequency\": 22, \"Frequency in Sent\": 10, \"Sent\": \"Negative\"}, {\"Bigram\": \"day_one\", \"Loglikelihood\": 9.94, \"Frequency\": 22, \"Frequency in Sent\": 10, \"Sent\": \"Negative\"}, {\"Bigram\": \"best_games\", \"Loglikelihood\": 9.912, \"Frequency\": 106, \"Frequency in Sent\": 3, \"Sent\": \"Negative\"}, {\"Bigram\": \"ca_even\", \"Loglikelihood\": 9.768, \"Frequency\": 45, \"Frequency in Sent\": 15, \"Sent\": \"Negative\"}, {\"Bigram\": \"works_well\", \"Loglikelihood\": 9.742, \"Frequency\": 105, \"Frequency in Sent\": 3, \"Sent\": \"Negative\"}, {\"Bigram\": \"turn_aging\", \"Loglikelihood\": 9.625, \"Frequency\": 5, \"Frequency in Sent\": 5, \"Sent\": \"Negative\"}, {\"Bigram\": \"graphics_terrible\", \"Loglikelihood\": 9.625, \"Frequency\": 5, \"Frequency in Sent\": 5, \"Sent\": \"Negative\"}, {\"Bigram\": \"loading_e\", \"Loglikelihood\": 9.625, \"Frequency\": 5, \"Frequency in Sent\": 5, \"Sent\": \"Negative\"}, {\"Bigram\": \"coded_arms\", \"Loglikelihood\": 9.625, \"Frequency\": 5, \"Frequency in Sent\": 5, \"Sent\": \"Negative\"}, {\"Bigram\": \"work_since\", \"Loglikelihood\": 9.625, \"Frequency\": 5, \"Frequency in Sent\": 5, \"Sent\": \"Negative\"}, {\"Bigram\": \"lag_lag\", \"Loglikelihood\": 9.625, \"Frequency\": 5, \"Frequency in Sent\": 5, \"Sent\": \"Negative\"}, {\"Bigram\": \"would_work\", \"Loglikelihood\": 9.565, \"Frequency\": 27, \"Frequency in Sent\": 11, \"Sent\": \"Negative\"}, {\"Bigram\": \"leisure_suit\", \"Loglikelihood\": 9.517, \"Frequency\": 8, \"Frequency in Sent\": 6, \"Sent\": \"Negative\"}, {\"Bigram\": \"open_map\", \"Loglikelihood\": 9.517, \"Frequency\": 8, \"Frequency in Sent\": 6, \"Sent\": \"Negative\"}, {\"Bigram\": \"take_money\", \"Loglikelihood\": 9.517, \"Frequency\": 8, \"Frequency in Sent\": 6, \"Sent\": \"Negative\"}, {\"Bigram\": \"like_oblivion\", \"Loglikelihood\": 9.517, \"Frequency\": 8, \"Frequency in Sent\": 6, \"Sent\": \"Negative\"}, {\"Bigram\": \"suit_larry\", \"Loglikelihood\": 9.517, \"Frequency\": 8, \"Frequency in Sent\": 6, \"Sent\": \"Negative\"}, {\"Bigram\": \"metal_gear\", \"Loglikelihood\": 9.404, \"Frequency\": 103, \"Frequency in Sent\": 3, \"Sent\": \"Negative\"}, {\"Bigram\": \"special_edition\", \"Loglikelihood\": 9.331, \"Frequency\": 32, \"Frequency in Sent\": 12, \"Sent\": \"Negative\"}, {\"Bigram\": \"lots_fun\", \"Loglikelihood\": 9.272, \"Frequency\": 41, \"Frequency in Sent\": 0, \"Sent\": \"Negative\"}, {\"Bigram\": \"every_single\", \"Loglikelihood\": 9.201, \"Frequency\": 62, \"Frequency in Sent\": 18, \"Sent\": \"Negative\"}, {\"Bigram\": \"great_price\", \"Loglikelihood\": 9.199, \"Frequency\": 67, \"Frequency in Sent\": 1, \"Sent\": \"Negative\"}, {\"Bigram\": \"ca_get\", \"Loglikelihood\": 9.092, \"Frequency\": 47, \"Frequency in Sent\": 15, \"Sent\": \"Negative\"}, {\"Bigram\": \"highly_recommended\", \"Loglikelihood\": 9.002, \"Frequency\": 66, \"Frequency in Sent\": 1, \"Sent\": \"Negative\"}, {\"Bigram\": \"would_rather\", \"Loglikelihood\": 8.948, \"Frequency\": 24, \"Frequency in Sent\": 10, \"Sent\": \"Negative\"}, {\"Bigram\": \"ca_play\", \"Loglikelihood\": 8.948, \"Frequency\": 24, \"Frequency in Sent\": 10, \"Sent\": \"Negative\"}, {\"Bigram\": \"little_bit\", \"Loglikelihood\": 8.9, \"Frequency\": 100, \"Frequency in Sent\": 3, \"Sent\": \"Negative\"}, {\"Bigram\": \"really_hate\", \"Loglikelihood\": 8.674, \"Frequency\": 9, \"Frequency in Sent\": 6, \"Sent\": \"Negative\"}, {\"Bigram\": \"work_properly\", \"Loglikelihood\": 8.674, \"Frequency\": 9, \"Frequency in Sent\": 6, \"Sent\": \"Negative\"}, {\"Bigram\": \"playing_street\", \"Loglikelihood\": 8.556, \"Frequency\": 6, \"Frequency in Sent\": 5, \"Sent\": \"Negative\"}, {\"Bigram\": \"onto_computer\", \"Loglikelihood\": 8.556, \"Frequency\": 6, \"Frequency in Sent\": 5, \"Sent\": \"Negative\"}, {\"Bigram\": \"several_things\", \"Loglikelihood\": 8.556, \"Frequency\": 6, \"Frequency in Sent\": 5, \"Sent\": \"Negative\"}, {\"Bigram\": \"full_refund\", \"Loglikelihood\": 8.556, \"Frequency\": 6, \"Frequency in Sent\": 5, \"Sent\": \"Negative\"}, {\"Bigram\": \"way_play\", \"Loglikelihood\": 8.49, \"Frequency\": 25, \"Frequency in Sent\": 10, \"Sent\": \"Negative\"}, {\"Bigram\": \"character_creation\", \"Loglikelihood\": 8.49, \"Frequency\": 25, \"Frequency in Sent\": 10, \"Sent\": \"Negative\"}, {\"Bigram\": \"looks_great\", \"Loglikelihood\": 8.416, \"Frequency\": 63, \"Frequency in Sent\": 1, \"Sent\": \"Negative\"}, {\"Bigram\": \"even_better\", \"Loglikelihood\": 8.406, \"Frequency\": 81, \"Frequency in Sent\": 2, \"Sent\": \"Negative\"}, {\"Bigram\": \"hand_hand\", \"Loglikelihood\": 8.367, \"Frequency\": 37, \"Frequency in Sent\": 0, \"Sent\": \"Negative\"}, {\"Bigram\": \"game_horrible\", \"Loglikelihood\": 8.342, \"Frequency\": 13, \"Frequency in Sent\": 7, \"Sent\": \"Negative\"}, {\"Bigram\": \"game_boring\", \"Loglikelihood\": 8.273, \"Frequency\": 17, \"Frequency in Sent\": 8, \"Sent\": \"Negative\"}, {\"Bigram\": \"even_worse\", \"Loglikelihood\": 8.273, \"Frequency\": 17, \"Frequency in Sent\": 8, \"Sent\": \"Negative\"}, {\"Bigram\": \"hardcore_gamer\", \"Loglikelihood\": 8.273, \"Frequency\": 17, \"Frequency in Sent\": 8, \"Sent\": \"Negative\"}, {\"Bigram\": \"stopped_working\", \"Loglikelihood\": 8.273, \"Frequency\": 17, \"Frequency in Sent\": 8, \"Sent\": \"Negative\"}, {\"Bigram\": \"controls_game\", \"Loglikelihood\": 8.273, \"Frequency\": 17, \"Frequency in Sent\": 8, \"Sent\": \"Negative\"}, {\"Bigram\": \"one_star\", \"Loglikelihood\": 8.171, \"Frequency\": 35, \"Frequency in Sent\": 12, \"Sent\": \"Negative\"}, {\"Bigram\": \"buying_game\", \"Loglikelihood\": 8.153, \"Frequency\": 50, \"Frequency in Sent\": 15, \"Sent\": \"Negative\"}, {\"Bigram\": \"makes_feel\", \"Loglikelihood\": 8.141, \"Frequency\": 36, \"Frequency in Sent\": 0, \"Sent\": \"Negative\"}, {\"Bigram\": \"twilight_princess\", \"Loglikelihood\": 8.141, \"Frequency\": 36, \"Frequency in Sent\": 0, \"Sent\": \"Negative\"}, {\"Bigram\": \"game_completely\", \"Loglikelihood\": 8.054, \"Frequency\": 26, \"Frequency in Sent\": 10, \"Sent\": \"Negative\"}, {\"Bigram\": \"horrible_game\", \"Loglikelihood\": 7.92, \"Frequency\": 10, \"Frequency in Sent\": 6, \"Sent\": \"Negative\"}, {\"Bigram\": \"great_gameplay\", \"Loglikelihood\": 7.915, \"Frequency\": 35, \"Frequency in Sent\": 0, \"Sent\": \"Negative\"}, {\"Bigram\": \"buy_another\", \"Loglikelihood\": 7.867, \"Frequency\": 22, \"Frequency in Sent\": 9, \"Sent\": \"Negative\"}, {\"Bigram\": \"dead_island\", \"Loglikelihood\": 7.867, \"Frequency\": 22, \"Frequency in Sent\": 9, \"Sent\": \"Negative\"}, {\"Bigram\": \"absolutely_nothing\", \"Loglikelihood\": 7.733, \"Frequency\": 14, \"Frequency in Sent\": 7, \"Sent\": \"Negative\"}, {\"Bigram\": \"game_would\", \"Loglikelihood\": 7.707, \"Frequency\": 169, \"Frequency in Sent\": 35, \"Sent\": \"Negative\"}, {\"Bigram\": \"extras_extra\", \"Loglikelihood\": 7.7, \"Frequency\": 4, \"Frequency in Sent\": 4, \"Sent\": \"Negative\"}, {\"Bigram\": \"birthright_conquest\", \"Loglikelihood\": 7.7, \"Frequency\": 4, \"Frequency in Sent\": 4, \"Sent\": \"Negative\"}, {\"Bigram\": \"passion_genre\", \"Loglikelihood\": 7.7, \"Frequency\": 4, \"Frequency in Sent\": 4, \"Sent\": \"Negative\"}, {\"Bigram\": \"sd_slot\", \"Loglikelihood\": 7.7, \"Frequency\": 4, \"Frequency in Sent\": 4, \"Sent\": \"Negative\"}, {\"Bigram\": \"learned_lesson\", \"Loglikelihood\": 7.7, \"Frequency\": 4, \"Frequency in Sent\": 4, \"Sent\": \"Negative\"}, {\"Bigram\": \"well_high\", \"Loglikelihood\": 7.7, \"Frequency\": 4, \"Frequency in Sent\": 4, \"Sent\": \"Negative\"}, {\"Bigram\": \"better_bethesda\", \"Loglikelihood\": 7.7, \"Frequency\": 4, \"Frequency in Sent\": 4, \"Sent\": \"Negative\"}, {\"Bigram\": \"next_point\", \"Loglikelihood\": 7.7, \"Frequency\": 4, \"Frequency in Sent\": 4, \"Sent\": \"Negative\"}, {\"Bigram\": \"forever_get\", \"Loglikelihood\": 7.7, \"Frequency\": 4, \"Frequency in Sent\": 4, \"Sent\": \"Negative\"}, {\"Bigram\": \"hard_lines\", \"Loglikelihood\": 7.7, \"Frequency\": 4, \"Frequency in Sent\": 4, \"Sent\": \"Negative\"}, {\"Bigram\": \"game_studio\", \"Loglikelihood\": 7.7, \"Frequency\": 4, \"Frequency in Sent\": 4, \"Sent\": \"Negative\"}, {\"Bigram\": \"things_environment\", \"Loglikelihood\": 7.7, \"Frequency\": 4, \"Frequency in Sent\": 4, \"Sent\": \"Negative\"}, {\"Bigram\": \"reason_pay\", \"Loglikelihood\": 7.7, \"Frequency\": 4, \"Frequency in Sent\": 4, \"Sent\": \"Negative\"}, {\"Bigram\": \"unless_pay\", \"Loglikelihood\": 7.7, \"Frequency\": 4, \"Frequency in Sent\": 4, \"Sent\": \"Negative\"}, {\"Bigram\": \"destroying_gaming\", \"Loglikelihood\": 7.7, \"Frequency\": 4, \"Frequency in Sent\": 4, \"Sent\": \"Negative\"}, {\"Bigram\": \"get_replacement\", \"Loglikelihood\": 7.7, \"Frequency\": 4, \"Frequency in Sent\": 4, \"Sent\": \"Negative\"}, {\"Bigram\": \"give_thoughts\", \"Loglikelihood\": 7.7, \"Frequency\": 4, \"Frequency in Sent\": 4, \"Sent\": \"Negative\"}, {\"Bigram\": \"square_mile\", \"Loglikelihood\": 7.7, \"Frequency\": 4, \"Frequency in Sent\": 4, \"Sent\": \"Negative\"}, {\"Bigram\": \"brick_extras\", \"Loglikelihood\": 7.7, \"Frequency\": 4, \"Frequency in Sent\": 4, \"Sent\": \"Negative\"}, {\"Bigram\": \"tes_construction\", \"Loglikelihood\": 7.7, \"Frequency\": 4, \"Frequency in Sent\": 4, \"Sent\": \"Negative\"}, {\"Bigram\": \"ax_pro\", \"Loglikelihood\": 7.7, \"Frequency\": 4, \"Frequency in Sent\": 4, \"Sent\": \"Negative\"}, {\"Bigram\": \"one_defective\", \"Loglikelihood\": 7.7, \"Frequency\": 4, \"Frequency in Sent\": 4, \"Sent\": \"Negative\"}, {\"Bigram\": \"quality_poor\", \"Loglikelihood\": 7.7, \"Frequency\": 4, \"Frequency in Sent\": 4, \"Sent\": \"Negative\"}, {\"Bigram\": \"three_versions\", \"Loglikelihood\": 7.7, \"Frequency\": 4, \"Frequency in Sent\": 4, \"Sent\": \"Negative\"}, {\"Bigram\": \"using_action\", \"Loglikelihood\": 7.7, \"Frequency\": 4, \"Frequency in Sent\": 4, \"Sent\": \"Negative\"}, {\"Bigram\": \"climb_ladder\", \"Loglikelihood\": 7.7, \"Frequency\": 4, \"Frequency in Sent\": 4, \"Sent\": \"Negative\"}, {\"Bigram\": \"installation_limit\", \"Loglikelihood\": 7.7, \"Frequency\": 4, \"Frequency in Sent\": 4, \"Sent\": \"Negative\"}, {\"Bigram\": \"time_waste\", \"Loglikelihood\": 7.7, \"Frequency\": 4, \"Frequency in Sent\": 4, \"Sent\": \"Negative\"}]}}, {\"mode\": \"vega-lite\"});\n",
       "</script>"
      ],
      "text/plain": [
       "alt.Chart(...)"
      ]
     },
     "execution_count": 41,
     "metadata": {},
     "output_type": "execute_result"
    }
   ],
   "source": [
    "\n",
    "import altair as alt\n",
    "\n",
    "alt.Chart(key_data).mark_circle(size=60).encode(\n",
    "    x='Loglikelihood',\n",
    "    y='Frequency in Sent',\n",
    "    color='Sent',\n",
    "    tooltip=['Bigram', 'Loglikelihood', 'Frequency', 'Frequency in Sent']\n",
    ").interactive()"
   ]
  },
  {
   "cell_type": "code",
   "execution_count": 50,
   "metadata": {},
   "outputs": [],
   "source": [
    "\n",
    "positive_texts = big_corpus[big_corpus['sent']==2]['processed_text'].tolist()\n",
    "negative_texts = big_corpus[big_corpus['sent']==0]['processed_text'].tolist()\n",
    "neutral_texts = big_corpus[big_corpus['sent']==1]['processed_text'].tolist()\n",
    "\n",
    "positive_texts = \"\\n\".join([\" \".join(tokens) for tokens in positive_texts])\n",
    "negative_texts = \"\\n\".join([\" \".join(tokens) for tokens in negative_texts])\n",
    "neutral_texts = \"\\n\".join([\" \".join(tokens) for tokens in neutral_texts])\n",
    "\n",
    "def make_text_corpus(text):\n",
    "    tokens = nltk.word_tokenize(text)\n",
    "    return nltk.Text(tokens)\n",
    "\n",
    "positive_text = make_text_corpus(positive_texts)\n",
    "negative_text = make_text_corpus(negative_texts)\n",
    "neutral_text = make_text_corpus(neutral_texts)"
   ]
  },
  {
   "cell_type": "code",
   "execution_count": 62,
   "metadata": {},
   "outputs": [
    {
     "name": "stdout",
     "output_type": "stream",
     "text": [
      "Displaying 100 of 112 matches:\n",
      "endo ipad etc fairly simple apply simple remove best part remove leave behind glue residue would nig\n",
      "art quit trying incursion even worse worst part best way get gear dark zone guess full douchebags tr\n",
      "l stuff narrative focuses new cast ghostbusters best summed cartoon characters personality beyond on\n",
      "ed player monsters terrible terrible ai results best pvp action ever encountered well however game q\n",
      " amazing love auto attack targeting removed far best combat mmorpg played played lot thrill get dyna\n",
      "server merge grinding grinding mention grinding best way level still repeat grind quests key areas q\n",
      "ng awesome controller breaks far easy joysticks best quality came pulls game camera left constantly \n",
      "e block great light still shines various places best solution black acrylic paint controller atop bl\n",
      "led bars location charging controllers probably best charging solution find dual shock moment using \n",
      "date locked pc reboot chkdsk needed uninstalled best game time game major issues win tried times wor\n",
      "ning effect prime secrets crap green tokens get best stuff game need friend codes means need friends\n",
      "indie console want want aaa titles buy xbox one best online period favorite games arkham city second\n",
      " simming able color things want instead choices best objects easy point boring able coat walls cheap\n",
      "ess unlucky one purchase defective unit happens best products previous car comes mind static defecti\n",
      "atinum trophy hesitating gran turismo currently best racing game market ea games tendency highly exp\n",
      "ated overall one worst franchises last year one best far skill level save buy still trying figure bo\n",
      "d product excellent like nad meets expectations best call duty ever made game starts wonderful beaut\n",
      "nged lightning demon armed werewolf fire dragon best elemental fiends group people made part could m\n",
      "ea intending characters come across stereotypes best grating irritants worst particular women video \n",
      "y money game game fun entertaing graphics start best worst car models pretty good hell car damage xb\n",
      " even better product broke little piece plastic best xbox one yet many made microsoft failed unless \n",
      "opping health ammo packs seem strongest ability best way earn points overall unless fan series may w\n",
      " worth extra bucks battle system great graphics best seen good story make maps annoying ever ff game\n",
      "e ce light things make worthwhile average buyer best incentive purchase early start game already pas\n",
      "e even fully charged great may get couple hours best even brand new battery ca believe fast furious \n",
      " thought could one people overall terrible game best mediocre definitely worth pro couple hours stil\n",
      "ody watched game thrones something nature tried best rip voice acting terrible bad say tales games s\n",
      "ans show trip memory lane game play us mediocre best achievement hunters avoid bulk achievements onl\n",
      "ot better buying retail version castlevania one best castlevania games ever played game best one fav\n",
      "nia one best castlevania games ever played game best one favorites included portarit ruin game frust\n",
      "ything last good final fantasy tenth one course best one without doubt rest came good good except go\n",
      " dialogue really awful know video game dialogue best long took think write compelling dialog rpg gam\n",
      "cheaper able price match toys r us game console best get official supported adapter penny wise pound\n",
      "rors vehicle handling especially cars something best likened trying juggle wet turds ca go straight \n",
      "ng make genre great lots match types cool modes best super detailed create character mode let make r\n",
      "meplay groove virtually nothing make stand game best cult following behind following insist game bes\n",
      "est cult following behind following insist game best stepping game well even crappiest ddr titles us\n",
      "d helpful feel limited whatever tell email goes best way get money back entirely amazon tech support\n",
      "ome game however first games incredible perhaps best action rpgs ever played really sense humor peop\n",
      "te purchasing new controllers excellent product best works product described supplier ships promptly\n",
      "still today go back play time time issues still best far original warfare want hit would go back rem\n",
      "esperately combing sites writing reviews trying best counter reality poorly designed game outdated c\n",
      "posts bugs instability game along securom issue best knowledge installed game internet disconnected \n",
      "lable yet game breeze hours blast cronies claim best game ever discard good never touch move next hy\n",
      " even half good freedom choice fallout combines best elements morrowind oblivion world fallout tradi\n",
      "y pain waiting tes v love game tremendously one best game played love story love graphics love battl\n",
      "eems lazy even something simple update ui guess best part price games headset old ax pro single powe\n",
      "tore gamestop doesnt even sell pc games anymore best buy place find main reason demise people never \n",
      "favorite players saskue stage itachi oruchimaru best tool used far taken japanese college classes gr\n",
      "nal fantasy series definately worst one opinion best pretty good story draw magic opponents pretty l\n",
      "ompared brilliant story first game one mediocre best kgb drugging city make become commies rebel bor\n",
      " drags incredible narrow boring slow drab awful best things even make worse playing baldur gate icew\n",
      "play forza also mediocre single player probably best battlefield franchise note picking battlefield \n",
      " battlefield franchise note picking battlefield best like trying choose bout food poisoning life fav\n",
      "aming pile know god awful abortion start finish best games actually made brothers arms games terribl\n",
      "tle lot homework decided tritton ax pro headset best pick true surround sound everything great month\n",
      "d even played first game dark souls classic one best video games ever played sequel lame really lost\n",
      "ub sims years starting silent service still one best sub sims despite years old silent hunter iii ea\n",
      "sims despite years old silent hunter iii easily best sub sim ever one problem install game shadow pl\n",
      " cry go make burnout fun bought put controllers best idea ever didnt work many bugs issues assertion\n",
      "ie game almost never worth pay ps plus honestly best option updated june really like recon future so\n",
      "dated june really like recon future soldier one best fps player games played lonngg time tried versi\n",
      "hardware manufactures try save software however best graphics card world useless piece junk work pro\n",
      "s still drivers critical remember latest always best graphic cards gpus drivers one problem games us\n",
      "pointment hd collection rather play silent hill best versions right sorry konami garbage star playin\n",
      "wii sports resort least looks interesting tried best buy seems little par graphics great liked play \n",
      " since mid pc recently fired morrowind overhaul best way play game still suffers clunky combat extre\n",
      "game nearly much enjoyed far cry know maybe far best game play excellent game new better resident ev\n",
      " needs get better servers release anymore games best zombie game many reasons problem charging thru \n",
      "s something buy disappointed near good original best shooter psp still good waste time gears b team \n",
      "posts bugs instability game along securom issue best knowledge installed game internet disconnected \n",
      "lable yet game breeze hours blast cronies claim best game ever discard good never touch move next hy\n",
      " even half good freedom choice fallout combines best elements morrowind oblivion world fallout tradi\n",
      " lot three film scenarios enter play second one best opinion different last provides fun gameplay mi\n",
      "y good beautiful visuals gameplay camera angles best moments wanted give quit game overall pretty go\n",
      "ything last good final fantasy tenth one course best one without doubt rest came good good except go\n",
      " dialogue really awful know video game dialogue best long took think write compelling dialog rpg gam\n",
      "me really give game thumbs recommend star title best graphics intro matt hazzard states company firs\n",
      "joy graphics player movement plot dialogue weak best game actually fun previous problems could overl\n",
      "a never ceases amaze comes screwing good things best way attack game phases visually offense defense\n",
      "irs socks think need description see says tried best love device anything operation system complete \n",
      "e said working street fighter iv fightstick one best ways get arcade experience home buttons stick r\n",
      " top spin mess things royally game could easily best game makers game made sure reasons many others \n",
      " annoying mentioned earlier tennis players play best tennis popularity contest fashion show knock st\n",
      "ront consider cost future console gaming decide best lefty hitters expirence power outage ball goes \n",
      " version currently ca even begin fathom visuals best ever xbox immersion beyond compare found surviv\n",
      "crappy like part better funner lets honest part best games theres capsals one crap confusing like wh\n",
      "sh button rejected b reviving teammates glitchy best done limited amounts times people bleed faster \n",
      "unt every last little collectible games ubisoft best beat story overall completion rate means done e\n",
      "athy losing surprised far price spore gone even best buy maybe price ea mentioned remove much securi\n",
      " since battlefield want fun playing battlefield best course would buy battlefield discs ebay get dam\n",
      " music chinese chinese singing daughter thought best aspect game graphics primitive see game cover p\n",
      "tead skylangers giants zap one last ones needed best thing loose expensive skylanders box still came\n",
      " plain simple expansion sims minor improvements best improvement entire play map seemingly loads ent\n",
      "tem windows firmware installed game pretty much best definition sucks entrance videos watch cool his\n",
      "ted game play difficult picture quality average best sound poor overall poor representation looking \n",
      "r xbox none discless better interface xbox also best interface keep years without problems xbox many\n",
      "t screen happens still vita looks really crappy best could get spending hour put half dime sized bub\n",
      "oblem four swords spin expecting obsolete wotlk best expansion gone downhill ever since thought woul\n",
      "ap rachet clank rachet clank going commando one best games ever especialy better theres much write t\n"
     ]
    }
   ],
   "source": [
    "words_to_check = [\n",
    "    \"word\",\n",
    "    \"great\",\n",
    "    \"game\",\n",
    "    \"love\",\n",
    "    \"works\",\n",
    "    \"highly\",\n",
    "    \"recommend\",\n",
    "    \"best\",\n",
    "    \"product\",\n",
    "    \"awesome\",\n",
    "    \"best\",\n",
    "    \"ever\",\n",
    "    \"great\",\n",
    "    \"excellent\"\n",
    "]\n",
    "negative_text.concordance('best', width=100, lines=100)"
   ]
  },
  {
   "cell_type": "code",
   "execution_count": 55,
   "metadata": {},
   "outputs": [
    {
     "data": {
      "text/plain": [
       "[('waste_money', 40.478, 42, 28),\n",
       " ('highly_recommend', 30.981, 137, 0),\n",
       " ('waste_time', 30.6, 38, 23),\n",
       " ('worst_game', 24.791, 22, 16),\n",
       " ('love_game', 24.382, 286, 9),\n",
       " ('tes_series', 23.1, 12, 12),\n",
       " ('works_great', 22.368, 154, 2),\n",
       " ('great_game', 22.048, 595, 34),\n",
       " ('one_best', 20.372, 290, 11),\n",
       " ('internet_connection', 19.884, 36, 18),\n",
       " ('construction_set', 19.25, 10, 10),\n",
       " ('game_story', 18.996, 84, 0),\n",
       " ('get_used', 18.77, 114, 1),\n",
       " ('buy_game', 17.638, 193, 48),\n",
       " ('one_favorite', 17.413, 77, 0),\n",
       " ('th_loading', 17.325, 9, 9),\n",
       " ('well_worth', 16.692, 104, 1),\n",
       " ('save_money', 16.57, 30, 15),\n",
       " ('boring_game', 15.841, 20, 12),\n",
       " ('top_spin', 15.4, 8, 8),\n",
       " ('grand_theftouto', 15.4, 8, 8),\n",
       " ('game_crashes', 15.28, 14, 10),\n",
       " ('customer_support', 15.205, 11, 9),\n",
       " ('one_worst', 14.761, 18, 11),\n",
       " ('install_game', 14.761, 18, 11),\n",
       " ('mega_man', 13.795, 61, 0),\n",
       " ('water_damage', 13.475, 7, 7),\n",
       " ('gamepad_tablet', 13.475, 7, 7),\n",
       " ('customer_service', 13.385, 20, 11),\n",
       " ('voice_acting', 13.035, 199, 8),\n",
       " ('piece_junk', 12.382, 8, 7),\n",
       " ('bethesda_softworks', 12.382, 8, 7),\n",
       " ('boring_repetitive', 12.382, 8, 7),\n",
       " ('looks_like', 12.297, 104, 28),\n",
       " ('lot_fun', 12.279, 180, 7),\n",
       " ('take_time', 12.212, 54, 0),\n",
       " ('along_way', 12.212, 54, 0),\n",
       " ('main_quest', 12.211, 30, 13),\n",
       " ('auction_house', 12.152, 22, 11),\n",
       " ('great_fun', 11.986, 53, 0),\n",
       " ('game_sucks', 11.88, 15, 9),\n",
       " ('money_game', 11.88, 15, 9),\n",
       " ('awesome_game', 11.585, 79, 1),\n",
       " ('never_buy', 11.565, 12, 8),\n",
       " ('high_setting', 11.55, 6, 6),\n",
       " ('big_rigs', 11.55, 6, 6),\n",
       " ('arena_daggerfall', 11.55, 6, 6),\n",
       " ('school_crpg', 11.55, 6, 6),\n",
       " ('red_brick', 11.55, 6, 6),\n",
       " ('get_passed', 11.406, 9, 7),\n",
       " ('money_back', 11.406, 9, 7),\n",
       " ('many_problems', 11.406, 9, 7),\n",
       " ('much_fun', 11.236, 159, 6),\n",
       " ('game_buy', 11.139, 46, 16),\n",
       " ('great_product', 10.984, 76, 1),\n",
       " ('bought_game', 10.887, 127, 31),\n",
       " ('move_controllers', 10.802, 13, 8),\n",
       " ('play_game', 10.67, 334, 64),\n",
       " ('release_game', 10.546, 17, 9),\n",
       " ('real_money', 10.527, 10, 7),\n",
       " ('send_back', 10.527, 10, 7),\n",
       " ('action_point', 10.467, 7, 6),\n",
       " ('money_something', 10.467, 7, 6),\n",
       " ('play_offline', 10.467, 7, 6),\n",
       " ('game_amazing', 10.403, 46, 0),\n",
       " ('kids_love', 10.403, 46, 0),\n",
       " ('easy_use', 9.95, 44, 0),\n",
       " ('stay_away', 9.94, 22, 10),\n",
       " ('day_one', 9.94, 22, 10),\n",
       " ('best_games', 9.912, 106, 3),\n",
       " ('ca_even', 9.768, 45, 15),\n",
       " ('works_well', 9.742, 105, 3),\n",
       " ('turn_aging', 9.625, 5, 5),\n",
       " ('graphics_terrible', 9.625, 5, 5),\n",
       " ('loading_e', 9.625, 5, 5),\n",
       " ('coded_arms', 9.625, 5, 5),\n",
       " ('work_since', 9.625, 5, 5),\n",
       " ('lag_lag', 9.625, 5, 5),\n",
       " ('would_work', 9.565, 27, 11),\n",
       " ('leisure_suit', 9.517, 8, 6),\n",
       " ('open_map', 9.517, 8, 6),\n",
       " ('take_money', 9.517, 8, 6),\n",
       " ('like_oblivion', 9.517, 8, 6),\n",
       " ('suit_larry', 9.517, 8, 6),\n",
       " ('metal_gear', 9.404, 103, 3),\n",
       " ('special_edition', 9.331, 32, 12),\n",
       " ('lots_fun', 9.272, 41, 0),\n",
       " ('every_single', 9.201, 62, 18),\n",
       " ('great_price', 9.199, 67, 1),\n",
       " ('ca_get', 9.092, 47, 15),\n",
       " ('highly_recommended', 9.002, 66, 1),\n",
       " ('would_rather', 8.948, 24, 10),\n",
       " ('ca_play', 8.948, 24, 10),\n",
       " ('little_bit', 8.9, 100, 3),\n",
       " ('really_hate', 8.674, 9, 6),\n",
       " ('work_properly', 8.674, 9, 6),\n",
       " ('playing_street', 8.556, 6, 5),\n",
       " ('onto_computer', 8.556, 6, 5),\n",
       " ('several_things', 8.556, 6, 5),\n",
       " ('full_refund', 8.556, 6, 5),\n",
       " ('way_play', 8.49, 25, 10),\n",
       " ('character_creation', 8.49, 25, 10),\n",
       " ('looks_great', 8.416, 63, 1),\n",
       " ('even_better', 8.406, 81, 2),\n",
       " ('hand_hand', 8.367, 37, 0),\n",
       " ('game_horrible', 8.342, 13, 7),\n",
       " ('game_boring', 8.273, 17, 8),\n",
       " ('even_worse', 8.273, 17, 8),\n",
       " ('hardcore_gamer', 8.273, 17, 8),\n",
       " ('stopped_working', 8.273, 17, 8),\n",
       " ('controls_game', 8.273, 17, 8),\n",
       " ('one_star', 8.171, 35, 12),\n",
       " ('buying_game', 8.153, 50, 15),\n",
       " ('makes_feel', 8.141, 36, 0),\n",
       " ('twilight_princess', 8.141, 36, 0),\n",
       " ('game_completely', 8.054, 26, 10),\n",
       " ('horrible_game', 7.92, 10, 6),\n",
       " ('great_gameplay', 7.915, 35, 0),\n",
       " ('buy_another', 7.867, 22, 9),\n",
       " ('dead_island', 7.867, 22, 9),\n",
       " ('absolutely_nothing', 7.733, 14, 7),\n",
       " ('game_would', 7.707, 169, 35),\n",
       " ('extras_extra', 7.7, 4, 4),\n",
       " ('birthright_conquest', 7.7, 4, 4),\n",
       " ('passion_genre', 7.7, 4, 4),\n",
       " ('sd_slot', 7.7, 4, 4),\n",
       " ('learned_lesson', 7.7, 4, 4),\n",
       " ('well_high', 7.7, 4, 4),\n",
       " ('better_bethesda', 7.7, 4, 4),\n",
       " ('next_point', 7.7, 4, 4),\n",
       " ('forever_get', 7.7, 4, 4),\n",
       " ('hard_lines', 7.7, 4, 4),\n",
       " ('game_studio', 7.7, 4, 4),\n",
       " ('things_environment', 7.7, 4, 4),\n",
       " ('reason_pay', 7.7, 4, 4),\n",
       " ('unless_pay', 7.7, 4, 4),\n",
       " ('destroying_gaming', 7.7, 4, 4),\n",
       " ('get_replacement', 7.7, 4, 4),\n",
       " ('give_thoughts', 7.7, 4, 4),\n",
       " ('square_mile', 7.7, 4, 4),\n",
       " ('brick_extras', 7.7, 4, 4),\n",
       " ('tes_construction', 7.7, 4, 4),\n",
       " ('ax_pro', 7.7, 4, 4),\n",
       " ('one_defective', 7.7, 4, 4),\n",
       " ('quality_poor', 7.7, 4, 4),\n",
       " ('three_versions', 7.7, 4, 4),\n",
       " ('using_action', 7.7, 4, 4),\n",
       " ('climb_ladder', 7.7, 4, 4),\n",
       " ('installation_limit', 7.7, 4, 4),\n",
       " ('time_waste', 7.7, 4, 4)]"
      ]
     },
     "execution_count": 55,
     "metadata": {},
     "output_type": "execute_result"
    }
   ],
   "source": [
    "negative_keys"
   ]
  }
 ],
 "metadata": {
  "interpreter": {
   "hash": "0307d8e1011b2e59c082ba3b315f5b6730e974eba97e00d3bfe2db4abd075e24"
  },
  "kernelspec": {
   "display_name": "Python 3.10.0 64-bit ('project': conda)",
   "language": "python",
   "name": "python3"
  },
  "language_info": {
   "codemirror_mode": {
    "name": "ipython",
    "version": 3
   },
   "file_extension": ".py",
   "mimetype": "text/x-python",
   "name": "python",
   "nbconvert_exporter": "python",
   "pygments_lexer": "ipython3",
   "version": "3.9.7"
  },
  "orig_nbformat": 4
 },
 "nbformat": 4,
 "nbformat_minor": 2
}
